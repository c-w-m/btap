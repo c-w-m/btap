{
 "cells": [
  {
   "cell_type": "markdown",
   "id": "92d8fc9b-5b09-41cb-9aec-21dd37787779",
   "metadata": {},
   "source": [
    "# Chapter 2: Extracting Textual Insights with APIs\n",
    "\n",
    "## [Blueprints for Text Analysis Using Python](https://github.com/blueprints-for-text-analytics-python/blueprints-text)\n",
    "\n",
    "View Jupyter notebook on \n",
    "[[Github]](API_Data_Extraction.ipynb) or\n",
    "[[nbviewer](https://nbviewer.ipython.org/github/blueprints-for-text-analytics-python/blueprints-text/blob/master/ch02/API_Data_Extraction.ipynb)] or run it on \n",
    "[[Colab](https://colab.research.google.com/github/blueprints-for-text-analytics-python/blueprints-text/blob/master/ch02/API_Data_Extraction.ipynb)].\n",
    "\n",
    "\n",
    "## Figures\n",
    "\n",
    "Understanding entities mentioned in Tweets discussing cryptocurrency.\n",
    "\n",
    "![](figures/fig01.png)\n",
    "\n",
    "Understanding what Formula One teams tweet about and how Mercedes (left) is different from Ferrari (right).\n",
    "![](figures/fig02.png)"
   ]
  }
 ],
 "metadata": {
  "kernelspec": {
   "display_name": "btap38",
   "language": "python",
   "name": "btap38"
  },
  "language_info": {
   "codemirror_mode": {
    "name": "ipython",
    "version": 3
   },
   "file_extension": ".py",
   "mimetype": "text/x-python",
   "name": "python",
   "nbconvert_exporter": "python",
   "pygments_lexer": "ipython3",
   "version": "3.8.9"
  }
 },
 "nbformat": 4,
 "nbformat_minor": 5
}
