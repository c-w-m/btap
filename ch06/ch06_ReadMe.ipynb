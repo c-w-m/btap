{
 "cells": [
  {
   "cell_type": "markdown",
   "id": "3d36c0ee-d958-4746-a3aa-26febc9d71c7",
   "metadata": {},
   "source": [
    "# Chapter 6: Text Classification Algorithms\n",
    "\n",
    "## [Blueprints for Text Analysis Using Python](https://github.com/blueprints-for-text-analytics-python/blueprints-text)\n",
    "\n",
    "View Jupyter notebook on \n",
    "[[Github]](Text_Classification.ipynb) or\n",
    "[[nbviewer](https://nbviewer.ipython.org/github/blueprints-for-text-analytics-python/blueprints-text/blob/master/ch06/Text_Classification.ipynb)] or run it on \n",
    "[[Colab](https://colab.research.google.com/github/blueprints-for-text-analytics-python/blueprints-text/blob/master/ch06/Text_Classification.ipynb)].\n",
    "\n",
    "\n",
    "## Figures\n",
    "\n",
    "An example of how bugs have been automatically classified into the architecture components they were reported in using the Java Development Toolkit (JDT) bugs dataset.\n",
    "\n",
    "![](figures/example.png)"
   ]
  }
 ],
 "metadata": {
  "kernelspec": {
   "display_name": "btap38",
   "language": "python",
   "name": "btap38"
  },
  "language_info": {
   "codemirror_mode": {
    "name": "ipython",
    "version": 3
   },
   "file_extension": ".py",
   "mimetype": "text/x-python",
   "name": "python",
   "nbconvert_exporter": "python",
   "pygments_lexer": "ipython3",
   "version": "3.8.9"
  }
 },
 "nbformat": 4,
 "nbformat_minor": 5
}
