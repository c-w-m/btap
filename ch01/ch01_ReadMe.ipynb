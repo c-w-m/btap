{
 "cells": [
  {
   "cell_type": "markdown",
   "id": "fdf4dccb-abb8-4e67-91c2-1123b43baa6f",
   "metadata": {},
   "source": [
    "# Chapter 1: Gaining Early Insights from Textual Data\n",
    "\n",
    "## [Blueprints for Text Analysis Using Python](https://github.com/blueprints-for-text-analytics-python/blueprints-text)\n",
    "\n",
    "View Jupyter notebook on \n",
    "[[Github]](First_Insights.ipynb) or\n",
    "[[nbviewer](https://nbviewer.ipython.org/github/blueprints-for-text-analytics-python/blueprints-text/blob/master/ch01/First_Insights.ipynb)] or run it on \n",
    "[[Colab](https://colab.research.google.com/github/blueprints-for-text-analytics-python/blueprints-text/blob/master/ch01/First_Insights.ipynb)].\n",
    "\n",
    "\n",
    "## Figures\n",
    "\n",
    "Two figures illustrating analysis results based on the UN General Debates corpus used in this chapter.\n",
    "\n",
    "Figure 1.6: Words weighted by plain counts (upper) and TF-IDF (lower) for speeches in\n",
    "two selected years\n",
    "![](figures/fig_1_6_tfidf_wordcloud.png)\n",
    "\n",
    "Figure 1.8: Frequencies of selected words per year\n",
    "![](figures/fig1_8_timeseries.png)"
   ]
  }
 ],
 "metadata": {
  "kernelspec": {
   "display_name": "btap38",
   "language": "python",
   "name": "btap38"
  },
  "language_info": {
   "codemirror_mode": {
    "name": "ipython",
    "version": 3
   },
   "file_extension": ".py",
   "mimetype": "text/x-python",
   "name": "python",
   "nbconvert_exporter": "python",
   "pygments_lexer": "ipython3",
   "version": "3.8.9"
  }
 },
 "nbformat": 4,
 "nbformat_minor": 5
}
