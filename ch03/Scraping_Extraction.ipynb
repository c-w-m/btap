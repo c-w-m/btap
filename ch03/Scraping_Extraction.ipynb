{
 "cells": [
  {
   "cell_type": "markdown",
   "metadata": {
    "colab_type": "text",
    "id": "view-in-github"
   },
   "source": [
    "<a href=\"https://colab.research.google.com/github/c-w-m/btap/blob/master/ch03/Scraping_Extraction.ipynb\" target=\"_parent\"><img src=\"https://colab.research.google.com/assets/colab-badge.svg\" alt=\"Open In Colab\"/></a>"
   ]
  },
  {
   "cell_type": "markdown",
   "metadata": {},
   "source": [
    "[**Blueprints for Text Analysis Using Python**](https://github.com/blueprints-for-text-analytics-python/blueprints-text)  \n",
    "Jens Albrecht, Sidharth Ramachandran, Christian Winkler\n",
    "\n",
    "# Chapter 3:<div class='tocSkip'/>"
   ]
  },
  {
   "cell_type": "markdown",
   "metadata": {},
   "source": [
    "# Scraping Websites and Extracting Data"
   ]
  },
  {
   "cell_type": "markdown",
   "metadata": {},
   "source": [
    "## Remark<div class='tocSkip'/>\n",
    "\n",
    "The code in this notebook differs slightly from the printed book. The Reuters website has changed significantly and is now obfuscated. For the illustractive examples we use the version from the Internet Archive. There are some utility functions which explain how to handle obfuscation though.\n",
    "\n",
    "Moreover, several layout and formatting commands, like `figsize` to control figure size or subplot commands are removed in the book.\n",
    "\n",
    "All of this is done to simplify the code in the book and put the focus on the important parts instead of formatting."
   ]
  },
  {
   "cell_type": "markdown",
   "metadata": {},
   "source": [
    "## Setup<div class='tocSkip'/>\n",
    "\n",
    "Set directory locations. If working on Google Colab: copy files and install required libraries."
   ]
  },
  {
   "cell_type": "code",
   "execution_count": 1,
   "metadata": {},
   "outputs": [
    {
     "name": "stdout",
     "output_type": "stream",
     "text": [
      "You are working on a local system.\n",
      "Files will be searched relative to \"..\".\n"
     ]
    }
   ],
   "source": [
    "import sys, os\n",
    "ON_COLAB = 'google.colab' in sys.modules\n",
    "\n",
    "if ON_COLAB:\n",
    "    GIT_ROOT = 'https://github.com/blueprints-for-text-analytics-python/blueprints-text/raw/master'\n",
    "    os.system(f'wget {GIT_ROOT}/ch03/setup.py')\n",
    "\n",
    "%run -i setup.py"
   ]
  },
  {
   "cell_type": "markdown",
   "metadata": {},
   "source": [
    "## Load Python Settings<div class=\"tocSkip\"/>\n",
    "\n",
    "Common imports, defaults for formatting in Matplotlib, Pandas etc."
   ]
  },
  {
   "cell_type": "code",
   "execution_count": 2,
   "metadata": {},
   "outputs": [],
   "source": [
    "%run \"$BASE_DIR/settings.py\"\n",
    "\n",
    "if ON_COLAB:\n",
    "    %reload_ext autoreload\n",
    "    %autoreload 2\n",
    "\n",
    "%config InlineBackend.figure_format = 'png'"
   ]
  },
  {
   "cell_type": "markdown",
   "metadata": {
    "colab_type": "text",
    "id": "bg6vXOpUoGq4"
   },
   "source": [
    "# Blueprint: download and interpret robots.txt"
   ]
  },
  {
   "cell_type": "code",
   "execution_count": 3,
   "metadata": {
    "colab": {},
    "colab_type": "code",
    "id": "XgVenIOToGq7"
   },
   "outputs": [],
   "source": [
    "import urllib.robotparser\n",
    "rp = urllib.robotparser.RobotFileParser()\n",
    "rp.set_url(\"https://www.reuters.com/robots.txt\")\n",
    "rp.read()"
   ]
  },
  {
   "cell_type": "code",
   "execution_count": 4,
   "metadata": {
    "colab": {},
    "colab_type": "code",
    "id": "iuxWAarsoGq-"
   },
   "outputs": [
    {
     "data": {
      "text/plain": [
       "True"
      ]
     },
     "execution_count": 4,
     "metadata": {},
     "output_type": "execute_result"
    }
   ],
   "source": [
    "rp.can_fetch(\"*\", \"https://www.reuters.com/sitemap.xml\")"
   ]
  },
  {
   "cell_type": "code",
   "execution_count": 5,
   "metadata": {
    "colab": {},
    "colab_type": "code",
    "id": "3L101T-5oGrB"
   },
   "outputs": [
    {
     "data": {
      "text/plain": [
       "False"
      ]
     },
     "execution_count": 5,
     "metadata": {},
     "output_type": "execute_result"
    }
   ],
   "source": [
    "rp.can_fetch(\"*\", \"https://www.reuters.com/finance/stocks/option\")"
   ]
  },
  {
   "cell_type": "markdown",
   "metadata": {
    "colab_type": "text",
    "id": "mzwDF3nOoGrD"
   },
   "source": [
    "# Blueprint: finding URLs from sitemap.xml"
   ]
  },
  {
   "cell_type": "code",
   "execution_count": 6,
   "metadata": {
    "colab": {},
    "colab_type": "code",
    "id": "W852mFHOoGrE",
    "scrolled": true
   },
   "outputs": [],
   "source": [
    "# might need to install xmltodict\n",
    "import xmltodict\n",
    "import requests\n",
    "\n",
    "sitemap = xmltodict.parse(requests.get('https://www.reuters.com/sitemap_news_index1.xml').text)"
   ]
  },
  {
   "cell_type": "code",
   "execution_count": 7,
   "metadata": {
    "colab": {},
    "colab_type": "code",
    "id": "841uffIloGrH"
   },
   "outputs": [
    {
     "name": "stdout",
     "output_type": "stream",
     "text": [
      "https://www.reuters.com/article/us-space-exploration-blue-origin-nasa/musk-trolls-bezos-as-space-race-between-worlds-richest-men-heats-up-idUSKBN2CD2TI\n",
      "https://www.reuters.com/article/us-oil-opec-meeting/opec-sticks-to-plan-to-ease-oil-output-cuts-from-may-1-sources-say-idUSKBN2CE0T6\n",
      "https://www.reuters.com/article/oil-opec-meeting-int/opec-sticks-to-plan-to-ease-oil-output-cuts-from-may-1-sources-say-idUSKBN2CE0U2\n"
     ]
    }
   ],
   "source": [
    "# just see some of the URLs\n",
    "urls = [url[\"loc\"] for url in sitemap[\"urlset\"][\"url\"]]\n",
    "print(\"\\n\".join(urls[0:3]))"
   ]
  },
  {
   "cell_type": "markdown",
   "metadata": {
    "colab_type": "text",
    "id": "EiIUx1sSoGrL"
   },
   "source": [
    "# Blueprint: finding URLs from RSS"
   ]
  },
  {
   "cell_type": "markdown",
   "metadata": {},
   "source": [
    "Reuters removed its RSS feed after the book was published. We therefore use a saved copy from the Internet archive"
   ]
  },
  {
   "cell_type": "code",
   "execution_count": 8,
   "metadata": {
    "colab": {},
    "colab_type": "code",
    "id": "7MGKtBAKoGrM"
   },
   "outputs": [],
   "source": [
    "# might need to install feedparser\n",
    "import feedparser\n",
    "feed = feedparser.parse('http://web.archive.org/web/20200613003232if_/http://feeds.reuters.com/Reuters/worldNews')"
   ]
  },
  {
   "cell_type": "code",
   "execution_count": 9,
   "metadata": {
    "colab": {},
    "colab_type": "code",
    "id": "7gEmDJtRoGrP"
   },
   "outputs": [
    {
     "data": {
      "text/plain": [
       "[('Mexico City to begin gradual exit from lockdown on Monday',\n",
       "  'http://feeds.reuters.com/~r/Reuters/worldNews/~3/OQtkVdAqHos/mexico-city-to-begin-gradual-exit-from-lockdown-on-monday-idUSKBN23K00R'),\n",
       " ('Mexico reports record tally of 5,222 new coronavirus cases',\n",
       "  'http://feeds.reuters.com/~r/Reuters/worldNews/~3/Rkz9j2G7lJU/mexico-reports-record-tally-of-5222-new-coronavirus-cases-idUSKBN23K00B'),\n",
       " ('Venezuela supreme court to swear in new electoral council leaders, government says',\n",
       "  'http://feeds.reuters.com/~r/Reuters/worldNews/~3/cc3R5aq4Ksk/venezuela-supreme-court-to-swear-in-new-electoral-council-leaders-government-says-idUSKBN23J39T'),\n",
       " (\"One-fifth of Britain's coronavirus patients were infected in hospitals: Telegraph\",\n",
       "  'http://feeds.reuters.com/~r/Reuters/worldNews/~3/1_7Wb0S_6-8/one-fifth-of-britains-coronavirus-patients-were-infected-in-hospitals-telegraph-idUSKBN23J382'),\n",
       " ('France to lift border controls for EU travellers on June 15',\n",
       "  'http://feeds.reuters.com/~r/Reuters/worldNews/~3/59BfrIYmz5w/france-to-lift-border-controls-for-eu-travellers-on-june-15-idUSKBN23J385'),\n",
       " (\"Brazil's COVID-19 deaths surge past UK, WHO says hospital system coping\",\n",
       "  'http://feeds.reuters.com/~r/Reuters/worldNews/~3/SVdaoPH85n4/brazils-covid-19-deaths-surge-past-uk-who-says-hospital-system-coping-idUSKBN23J30F'),\n",
       " (\"Canada's Trudeau calls arrest video of indigenous leader 'shocking'\",\n",
       "  'http://feeds.reuters.com/~r/Reuters/worldNews/~3/I7SImHlpjnM/canadas-trudeau-calls-arrest-video-of-indigenous-leader-shocking-idUSKBN23J2YF'),\n",
       " ('Egypt registers highest daily rise in coronavirus cases in nearly two weeks',\n",
       "  'http://feeds.reuters.com/~r/Reuters/worldNews/~3/EYyoma3WpSU/egypt-registers-highest-daily-rise-in-coronavirus-cases-in-nearly-two-weeks-idUSKBN23J36C'),\n",
       " ('Artists around the world pay tribute to George Floyd',\n",
       "  'http://feeds.reuters.com/~r/Reuters/worldNews/~3/r1LKkd3sJbs/artists-around-the-world-pay-tribute-to-george-floyd-idUSKBN23J35M'),\n",
       " (\"Brazil's COVID-19 death toll passes Britain, world's second highest\",\n",
       "  'http://feeds.reuters.com/~r/Reuters/worldNews/~3/g_uEz1XDgII/brazils-covid-19-death-toll-passes-britain-worlds-second-highest-idUSKBN23J35Q'),\n",
       " ('Lebanon protesters burn roads, clash with security in second night of unrest',\n",
       "  'http://feeds.reuters.com/~r/Reuters/worldNews/~3/nlJrlQbdQaw/lebanon-protesters-burn-roads-clash-with-security-in-second-night-of-unrest-idUSKBN23J33Z'),\n",
       " (\"'Stop buying social peace at our expense', French police tell government\",\n",
       "  'http://feeds.reuters.com/~r/Reuters/worldNews/~3/ZXOifRQXcjc/stop-buying-social-peace-at-our-expense-french-police-tell-government-idUSKBN23J17H'),\n",
       " ('Soccer team mobs coffin of murdered Mexican teen after moving tribute',\n",
       "  'http://feeds.reuters.com/~r/Reuters/worldNews/~3/KlaKFzEWF5s/soccer-team-mobs-coffin-of-murdered-mexican-teen-after-moving-tribute-idUSKBN23J33O'),\n",
       " (\"Chile's military moves through shadows to spot coronavirus curfew breakers\",\n",
       "  'http://feeds.reuters.com/~r/Reuters/worldNews/~3/kWg9jn4jS18/chiles-military-moves-through-shadows-to-spot-coronavirus-curfew-breakers-idUSKBN23J33D'),\n",
       " (\"Somalia's Islamist group al Shabaab says sets up COVID-19 treatment centre\",\n",
       "  'http://feeds.reuters.com/~r/Reuters/worldNews/~3/1AzaAZSLi50/somalias-islamist-group-al-shabaab-says-sets-up-covid-19-treatment-centre-idUSKBN23J32C'),\n",
       " (\"Congo's gold being smuggled out by the tonne, U.N. report finds\",\n",
       "  'http://feeds.reuters.com/~r/Reuters/worldNews/~3/0h7HNifS-EA/congos-gold-being-smuggled-out-by-the-tonne-u-n-report-finds-idUSKBN23J324'),\n",
       " ('Brazil drops police from human rights report amid global protests against racism and abuse',\n",
       "  'http://feeds.reuters.com/~r/Reuters/worldNews/~3/keFB_DL2_3Q/brazil-drops-police-from-human-rights-report-amid-global-protests-against-racism-and-abuse-idUSKBN23J316'),\n",
       " ('Slovenia to open borders for Italians, Montenegrins on June 15',\n",
       "  'http://feeds.reuters.com/~r/Reuters/worldNews/~3/Lp-FVxxomp8/slovenia-to-open-borders-for-italians-montenegrins-on-june-15-idUSKBN23J31U'),\n",
       " ('Botswana reinstates strict coronavirus lockdown in capital city',\n",
       "  'http://feeds.reuters.com/~r/Reuters/worldNews/~3/alBNYMaCpxA/botswana-reinstates-strict-coronavirus-lockdown-in-capital-city-idUSKBN23J31Q'),\n",
       " ('Coronavirus hitting the Americas hardest says World Health Organization',\n",
       "  'http://feeds.reuters.com/~r/Reuters/worldNews/~3/nOWjc9tZhig/coronavirus-hitting-the-americas-hardest-says-world-health-organization-idUSKBN23J2K3')]"
      ]
     },
     "execution_count": 9,
     "metadata": {},
     "output_type": "execute_result"
    }
   ],
   "source": [
    "[(e.title, e.link) for e in feed.entries]"
   ]
  },
  {
   "cell_type": "code",
   "execution_count": 10,
   "metadata": {
    "colab": {},
    "colab_type": "code",
    "id": "kJoqad-EoGrS"
   },
   "outputs": [
    {
     "data": {
      "text/plain": [
       "['https://www.reuters.com/article/us-health-coronavirus-mexico-city/mexico-city-to-begin-gradual-exit-from-lockdown-on-monday-idUSKBN23K00R?feedType=RSS&feedName=worldNews',\n",
       " 'https://www.reuters.com/article/us-health-coronavirus-mexico/mexico-reports-record-tally-of-5222-new-coronavirus-cases-idUSKBN23K00B?feedType=RSS&feedName=worldNews',\n",
       " 'https://www.reuters.com/article/us-venezuela-politics/venezuela-supreme-court-to-swear-in-new-electoral-council-leaders-government-says-idUSKBN23J39T?feedType=RSS&feedName=worldNews',\n",
       " 'https://www.reuters.com/article/us-health-coronavirus-britain-hospitals/one-fifth-of-britains-coronavirus-patients-were-infected-in-hospitals-telegraph-idUSKBN23J382?feedType=RSS&feedName=worldNews',\n",
       " 'https://www.reuters.com/article/us-health-coronavirus-france-borders/france-to-lift-border-controls-for-eu-travellers-on-june-15-idUSKBN23J385?feedType=RSS&feedName=worldNews',\n",
       " 'https://www.reuters.com/article/us-health-coronavirus-brazil/brazils-covid-19-deaths-surge-past-uk-who-says-hospital-system-coping-idUSKBN23J30F?feedType=RSS&feedName=worldNews',\n",
       " 'https://www.reuters.com/article/us-canada-police-trudeau/canadas-trudeau-calls-arrest-video-of-indigenous-leader-shocking-idUSKBN23J2YF?feedType=RSS&feedName=worldNews',\n",
       " 'https://www.reuters.com/article/us-health-coronavirus-egypt-toll/egypt-registers-highest-daily-rise-in-coronavirus-cases-in-nearly-two-weeks-idUSKBN23J36C?feedType=RSS&feedName=worldNews',\n",
       " 'https://www.reuters.com/article/us-minneapolis-police-protests-art/artists-around-the-world-pay-tribute-to-george-floyd-idUSKBN23J35M?feedType=RSS&feedName=worldNews',\n",
       " 'https://www.reuters.com/article/us-health-coronavirus-brazil-numbers/brazils-covid-19-death-toll-passes-britain-worlds-second-highest-idUSKBN23J35Q?feedType=RSS&feedName=worldNews',\n",
       " 'https://www.reuters.com/article/us-lebanon-crisis-protests/lebanon-protesters-burn-roads-clash-with-security-in-second-night-of-unrest-idUSKBN23J33Z?feedType=RSS&feedName=worldNews',\n",
       " 'https://www.reuters.com/article/us-france-security-police/stop-buying-social-peace-at-our-expense-french-police-tell-government-idUSKBN23J17H?feedType=RSS&feedName=worldNews',\n",
       " 'https://www.reuters.com/article/us-minneapolis-police-mexico/soccer-team-mobs-coffin-of-murdered-mexican-teen-after-moving-tribute-idUSKBN23J33O?feedType=RSS&feedName=worldNews',\n",
       " 'https://www.reuters.com/article/us-health-coronavirus-chile-army/chiles-military-moves-through-shadows-to-spot-coronavirus-curfew-breakers-idUSKBN23J33D?feedType=RSS&feedName=worldNews',\n",
       " 'https://www.reuters.com/article/us-health-coronavirus-somalia/somalias-islamist-group-al-shabaab-says-sets-up-covid-19-treatment-centre-idUSKBN23J32C?feedType=RSS&feedName=worldNews',\n",
       " 'https://www.reuters.com/article/us-congo-gold/congos-gold-being-smuggled-out-by-the-tonne-u-n-report-finds-idUSKBN23J324?feedType=RSS&feedName=worldNews',\n",
       " 'https://www.reuters.com/article/us-brazil-violence/brazil-drops-police-from-human-rights-report-amid-global-protests-against-racism-and-abuse-idUSKBN23J316?feedType=RSS&feedName=worldNews',\n",
       " 'https://www.reuters.com/article/us-health-coronavirus-slovenia-italy/slovenia-to-open-borders-for-italians-montenegrins-on-june-15-idUSKBN23J31U?feedType=RSS&feedName=worldNews',\n",
       " 'https://www.reuters.com/article/us-health-coronavirus-botswana/botswana-reinstates-strict-coronavirus-lockdown-in-capital-city-idUSKBN23J31Q?feedType=RSS&feedName=worldNews',\n",
       " 'https://www.reuters.com/article/us-health-coronavirus-who/coronavirus-hitting-the-americas-hardest-says-world-health-organization-idUSKBN23J2K3?feedType=RSS&feedName=worldNews']"
      ]
     },
     "execution_count": 10,
     "metadata": {},
     "output_type": "execute_result"
    }
   ],
   "source": [
    "[e.id for e in feed.entries]"
   ]
  },
  {
   "cell_type": "markdown",
   "metadata": {
    "colab_type": "text",
    "id": "chlsxEoAoGrU"
   },
   "source": [
    "# Example: Downloading HTML pages with Python"
   ]
  },
  {
   "cell_type": "code",
   "execution_count": 11,
   "metadata": {
    "colab": {},
    "colab_type": "code",
    "id": "dIwBH0daoGrV"
   },
   "outputs": [
    {
     "name": "stdout",
     "output_type": "stream",
     "text": [
      "CPU times: user 130 ms, sys: 15.5 ms, total: 146 ms\n",
      "Wall time: 2.71 s\n"
     ]
    }
   ],
   "source": [
    "%%time\n",
    "s = requests.Session()\n",
    "for url in urls[0:10]:\n",
    "    # get the part after the last / in URL and use as filename\n",
    "    file = url.split(\"/\")[-1]\n",
    "    \n",
    "    r = s.get(url)\n",
    "    with open(file, \"w+b\") as f:\n",
    "        f.write(r.text.encode('utf-8'))"
   ]
  },
  {
   "cell_type": "code",
   "execution_count": 12,
   "metadata": {
    "colab": {},
    "colab_type": "code",
    "id": "xlBeX4pWoGrY"
   },
   "outputs": [],
   "source": [
    "with open(\"urls.txt\", \"w+b\") as f:\n",
    "    f.write(\"\\n\".join(urls).encode('utf-8'))"
   ]
  },
  {
   "cell_type": "markdown",
   "metadata": {
    "colab_type": "text",
    "id": "71lE3mouoGra"
   },
   "source": [
    "# Blueprint: Extraction with regular expressions"
   ]
  },
  {
   "cell_type": "markdown",
   "metadata": {
    "colab_type": "text",
    "id": "dsiYQP65oGrb"
   },
   "source": [
    "We first have to download a single article"
   ]
  },
  {
   "cell_type": "code",
   "execution_count": 13,
   "metadata": {
    "colab": {},
    "colab_type": "code",
    "id": "js5blgHuoGrc"
   },
   "outputs": [],
   "source": [
    "url = 'https://www.reuters.com/article/us-health-vaping-marijuana-idUSKBN1WG4KT'\n",
    "\n",
    "file = url.split(\"/\")[-1] + \".html\"\n",
    "\n",
    "r = requests.get(url)\n",
    "\n",
    "with open(file, \"w+\") as f:\n",
    "    f.write(r.text)"
   ]
  },
  {
   "cell_type": "code",
   "execution_count": 14,
   "metadata": {
    "colab": {},
    "colab_type": "code",
    "id": "4W9USWj5oGrg"
   },
   "outputs": [
    {
     "name": "stdout",
     "output_type": "stream",
     "text": [
      "Banned in Boston: Without vaping, medical marijuana patients must adapt | Reuters\n"
     ]
    }
   ],
   "source": [
    "import re\n",
    "with open(file, \"r\") as f:\n",
    "    html = f.read()\n",
    "    g = re.search(r'<title>(.*)</title>', html, re.MULTILINE|re.DOTALL)\n",
    "    if g:\n",
    "        print(g.groups()[0])"
   ]
  },
  {
   "cell_type": "markdown",
   "metadata": {
    "colab_type": "text",
    "id": "8YoId1bpoGrj"
   },
   "source": [
    "# Using an HTML parser for extraction"
   ]
  },
  {
   "cell_type": "markdown",
   "metadata": {},
   "source": [
    "Reuters changed its content structure after the book was published. Unfortunately, they *obfuscated* the content so that the methods in the book don't work without massive changes.\n",
    "\n",
    "In this notebook, we stick to the text in the book and download the articles from the Internet archive which still has the old HTML structure."
   ]
  },
  {
   "cell_type": "code",
   "execution_count": 15,
   "metadata": {},
   "outputs": [],
   "source": [
    "WA_PREFIX = \"http://web.archive.org/web/20200118131624/\"\n",
    "html = s.get(WA_PREFIX + url).text"
   ]
  },
  {
   "cell_type": "code",
   "execution_count": 16,
   "metadata": {
    "colab": {},
    "colab_type": "code",
    "id": "WD_RSPvooGrj"
   },
   "outputs": [
    {
     "data": {
      "text/plain": [
       "[<h1 class=\"ArticleHeader_headline\">Banned in Boston: Without vaping, medical marijuana patients must adapt</h1>]"
      ]
     },
     "execution_count": 16,
     "metadata": {},
     "output_type": "execute_result"
    }
   ],
   "source": [
    "from bs4 import BeautifulSoup\n",
    "soup = BeautifulSoup(html, 'html.parser')\n",
    "soup.select(\"h1.ArticleHeader_headline\")"
   ]
  },
  {
   "cell_type": "markdown",
   "metadata": {
    "colab_type": "text",
    "id": "Dlnd63dmoGrn"
   },
   "source": [
    "## Blueprint: extracting the title/headline"
   ]
  },
  {
   "cell_type": "code",
   "execution_count": 17,
   "metadata": {
    "colab": {},
    "colab_type": "code",
    "id": "UgQCE-sxoGrn"
   },
   "outputs": [
    {
     "data": {
      "text/plain": [
       "<h1 class=\"ArticleHeader_headline\">Banned in Boston: Without vaping, medical marijuana patients must adapt</h1>"
      ]
     },
     "execution_count": 17,
     "metadata": {},
     "output_type": "execute_result"
    }
   ],
   "source": [
    "soup.h1"
   ]
  },
  {
   "cell_type": "code",
   "execution_count": 18,
   "metadata": {
    "colab": {},
    "colab_type": "code",
    "id": "0ZCqzQMWoGrr"
   },
   "outputs": [
    {
     "data": {
      "text/plain": [
       "'Banned in Boston: Without vaping, medical marijuana patients must adapt'"
      ]
     },
     "execution_count": 18,
     "metadata": {},
     "output_type": "execute_result"
    }
   ],
   "source": [
    "soup.h1.text"
   ]
  },
  {
   "cell_type": "code",
   "execution_count": 19,
   "metadata": {
    "colab": {},
    "colab_type": "code",
    "id": "Ew_1sC08oGru"
   },
   "outputs": [
    {
     "data": {
      "text/plain": [
       "'\\n                Banned in Boston: Without vaping, medical marijuana patients must adapt - Reuters'"
      ]
     },
     "execution_count": 19,
     "metadata": {},
     "output_type": "execute_result"
    }
   ],
   "source": [
    "soup.title.text"
   ]
  },
  {
   "cell_type": "code",
   "execution_count": 20,
   "metadata": {
    "colab": {},
    "colab_type": "code",
    "id": "RZuzfNv4oGry"
   },
   "outputs": [
    {
     "data": {
      "text/plain": [
       "'Banned in Boston: Without vaping, medical marijuana patients must adapt - Reuters'"
      ]
     },
     "execution_count": 20,
     "metadata": {},
     "output_type": "execute_result"
    }
   ],
   "source": [
    "soup.title.text.strip()"
   ]
  },
  {
   "cell_type": "markdown",
   "metadata": {
    "colab_type": "text",
    "id": "hxJFTkKKoGr1"
   },
   "source": [
    "## Blueprint: extracting the article text"
   ]
  },
  {
   "cell_type": "code",
   "execution_count": 21,
   "metadata": {
    "colab": {},
    "colab_type": "code",
    "id": "F0mU9XmZoGr2"
   },
   "outputs": [
    {
     "data": {
      "text/plain": [
       "'BOSTON (Reuters) - In the first few days of the four-month ban on all vaping products in Massachusetts, Laura Lee Medeiros, a medical marijuana patient, began to worry.\\xa0 FILE PHOTO: An employee puts down an eighth of an ounce marijuana after letting a customer smell it outside the Magnolia cannabis lounge in Oakland, California, U.S. April 20, 2018. REUTERS/Elijah NouvelageThe 32-year-old massage therapist has a diagnosis of post-traumatic stress disorder (PTSD) from childhood trauma. To temper her unpredictable panic attacks, she relied on a vape pen and cartridges filled with the marijuana derivatives THC and CBD from state dispensaries. There are other ways to get the desired effect from  marijuana, and patients have filled dispensaries across the state in recent days to ask about edible or smokeable forms. But Medeiros has come to depend on her battery-powered pen, and wondered how she would cope without her usual supply of cartridges.  “In the midst of something where I’m on the floor, on the verge of passing out, my pen has been very helpful for me to grab,” she said. She carries her vape pen in her purse in case of an emergency, but has only one cartridge left. Massachusetts imposed its ban on all vaping products, including both nicotine- and cannabis-based products, in response to mounting concern about the potential serious health risks. Governor Charlie Baker, a Republican, said the ban would last at least four months while new legislation and regulation is explored.  More than 800 cases of a vaping-related lung disease and 12 deaths across 10 U.S. states have so far been reported by the U.S. Centers for Disease Control and Prevention. Those numbers are expected to climb.  More than three quarters of those with the respiratory illness reported vaping THC, the main psychoactive ingredient of marijuana. Many of them used small e-cigarette cartridges, or “carts,” bought on the black market, where the risk of adulterated products is high. Marijuana remains illegal under federal law, but a growing number of states allow it for medical or recreational use. Massachusetts is one of 10 U.S. states that allows both uses, along with the District of Columbia. Some marijuana users had long eschewed vaping even before the ban, often on the advice of doctors who saw the cocktail of compounds being inhaled into lungs as risky. “I have advised against the vape carts for my patients for a long time exactly out of suspicion of basically what just happened,” said Dr. Ryan Zaklin, a doctor in Salem, Massachusetts. “Who the hell knows what they’re putting in them?” Some patients like vaping because it is more discreet than traditional burning of marijuana “flower.” The devices are small, produce a relatively odorless “vapor” and is fast-acting: a handheld device rapidly heats liquid compounds into an aerosol that can be inhaled into the lungs.  Many of those patients are now asking their doctors or dispensaries about edible forms of marijuana, liquid tinctures that can be dropped under the tongue or old-fashioned flower buds and pre-rolled joints for smoking.  For Medeiros, who lives in the small coastal city of Peabody, other methods are a poor substitute. She found that edibles take time to take effect, typically about an hour. Tinctures seemed to her similarly slow-acting. And rolling a joint while her vision is closing in and she is hyperventilating from a panic attack is nearly impossible, she said. UNEXPECTED BLESSING Medeiros wishes medical marijuana patients had been given time to stock up on the products they use before the ban went into immediate effect.  Pressed on such concerns, the governor has not been swayed to change his decision over what he said was a public health emergency. “There are many alternative uses available to people who currently have prescriptions for medical marijuana and they should pursue those,” Baker told reporters last week, according to local media. But some public health experts have warned the ban may drive more people toward riskier black-market, totally unregulated vape products.      At the New England Treatment Access (NETA) dispensary in Brookline, near Boston, which has become one of the biggest suppliers of medical marijuana since the drug became legalized in the state in 2012, several patients said they view the ban as an unexpected blessing. Denise Sullivan, 62, uses medical marijuana to treat symptoms of her leukemia. She had vaped for more than a year, but stopped after she heard about the ban. During the period she vaped, she contracted pneumonia five times, she said, and now believes that might have been vape related.\\xa0 “I can tell when I vape I am more congested not in my lungs but in my sinuses,” she said. She plans to use edibles, which she said kick in with enough time to treat her pain. Slideshow (2 Images)Kate LeDoux, 49, had a similar experience. She is a runner and used medical marijuana to help recovery from recent foot surgery.  LeDoux stopped vaping a few weeks ago after seeing the news about the lung disease, turning instead to edibles and smoking. Almost immediately, her “weird cough” cleared up and her running times improved, she said. “Now I know it was 100 percent the vaping.” (This story has been refiled to to correct date). Reporting Jacqueline Tempera in Brookline and Boston, Massachusetts, and Jonathan Allen in New York; Editing by Frank McGurty and Bill BerkrotOur Standards:The Thomson Reuters Trust Principles.'"
      ]
     },
     "execution_count": 21,
     "metadata": {},
     "output_type": "execute_result"
    }
   ],
   "source": [
    "soup.select_one(\"div.StandardArticleBody_body\").text"
   ]
  },
  {
   "cell_type": "markdown",
   "metadata": {
    "colab_type": "text",
    "id": "ptO1-Fz8oGr5"
   },
   "source": [
    "## Blueprint: extracting image captions"
   ]
  },
  {
   "cell_type": "code",
   "execution_count": 22,
   "metadata": {
    "colab": {},
    "colab_type": "code",
    "id": "E0FhMlqAoGr5"
   },
   "outputs": [
    {
     "data": {
      "text/plain": [
       "[<figure class=\"Image_zoom\" style=\"padding-bottom:\"><div class=\"LazyImage_container LazyImage_dark\" style=\"background-image:none\"><img aria-label=\"FILE PHOTO: An employee puts down an eighth of an ounce marijuana after letting a customer smell it outside the Magnolia cannabis lounge in Oakland, California, U.S. April 20, 2018. REUTERS/Elijah Nouvelage\" src=\"//web.archive.org/web/20200118131624im_/https://s3.reutersmedia.net/resources/r/?m=02&amp;d=20191001&amp;t=2&amp;i=1435991144&amp;r=LYNXMPEF9039L&amp;w=20\"/><div class=\"LazyImage_image LazyImage_fallback\" style=\"background-image:url(//web.archive.org/web/20200118131624im_/https://s3.reutersmedia.net/resources/r/?m=02&amp;d=20191001&amp;t=2&amp;i=1435991144&amp;r=LYNXMPEF9039L&amp;w=20);background-position:center center;background-color:inherit\"></div></div><div aria-label=\"Expand Image Slideshow\" class=\"Image_expand-button\" role=\"button\" tabindex=\"0\"><svg focusable=\"false\" height=\"18px\" version=\"1.1\" viewbox=\"0 0 18 18\" width=\"18px\"><path d=\"M16.2928932,1 L12.5,1 C12.2238576,1 12,0.776142375 12,0.5 C12,0.223857625 12.2238576,0 12.5,0 L17.5,0 C17.7761424,0 18,0.223857625 18,0.5 L18,5.5 C18,5.77614237 17.7761424,6 17.5,6 C17.2238576,6 17,5.77614237 17,5.5 L17,1.70710678 L12.8535534,5.85355339 C12.6582912,6.04881554 12.3417088,6.04881554 12.1464466,5.85355339 C11.9511845,5.65829124 11.9511845,5.34170876 12.1464466,5.14644661 L16.2928932,1 Z M1,16.2928932 L5.14644661,12.1464466 C5.34170876,11.9511845 5.65829124,11.9511845 5.85355339,12.1464466 C6.04881554,12.3417088 6.04881554,12.6582912 5.85355339,12.8535534 L1.70710678,17 L5.5,17 C5.77614237,17 6,17.2238576 6,17.5 C6,17.7761424 5.77614237,18 5.5,18 L0.5,18 C0.223857625,18 0,17.7761424 0,17.5 L0,12.5 C0,12.2238576 0.223857625,12 0.5,12 C0.776142375,12 1,12.2238576 1,12.5 L1,16.2928932 Z\"></path></svg></div></figure>,\n",
       " <figure><div class=\"LazyImage_container LazyImage_dark\" style=\"background-image:none\"><img src=\"//web.archive.org/web/20200118131624im_/https://s3.reutersmedia.net/resources/r/?m=02&amp;d=20191001&amp;t=2&amp;i=1435991145&amp;r=LYNXMPEF9039M\"/><div class=\"LazyImage_image LazyImage_fallback\" style=\"background-image:url(//web.archive.org/web/20200118131624im_/https://s3.reutersmedia.net/resources/r/?m=02&amp;d=20191001&amp;t=2&amp;i=1435991145&amp;r=LYNXMPEF9039M);background-position:center center;background-color:inherit\"></div></div><div class=\"Slideshow_expand-button\" role=\"button\" tabindex=\"0\"><svg focusable=\"false\" height=\"18px\" version=\"1.1\" viewbox=\"0 0 18 18\" width=\"18px\"><path d=\"M16.2928932,1 L12.5,1 C12.2238576,1 12,0.776142375 12,0.5 C12,0.223857625 12.2238576,0 12.5,0 L17.5,0 C17.7761424,0 18,0.223857625 18,0.5 L18,5.5 C18,5.77614237 17.7761424,6 17.5,6 C17.2238576,6 17,5.77614237 17,5.5 L17,1.70710678 L12.8535534,5.85355339 C12.6582912,6.04881554 12.3417088,6.04881554 12.1464466,5.85355339 C11.9511845,5.65829124 11.9511845,5.34170876 12.1464466,5.14644661 L16.2928932,1 Z M1,16.2928932 L5.14644661,12.1464466 C5.34170876,11.9511845 5.65829124,11.9511845 5.85355339,12.1464466 C6.04881554,12.3417088 6.04881554,12.6582912 5.85355339,12.8535534 L1.70710678,17 L5.5,17 C5.77614237,17 6,17.2238576 6,17.5 C6,17.7761424 5.77614237,18 5.5,18 L0.5,18 C0.223857625,18 0,17.7761424 0,17.5 L0,12.5 C0,12.2238576 0.223857625,12 0.5,12 C0.776142375,12 1,12.2238576 1,12.5 L1,16.2928932 Z\"></path></svg></div></figure>]"
      ]
     },
     "execution_count": 22,
     "metadata": {},
     "output_type": "execute_result"
    }
   ],
   "source": [
    "soup.select(\"div.StandardArticleBody_body figure\")"
   ]
  },
  {
   "cell_type": "markdown",
   "metadata": {
    "colab_type": "text",
    "id": "hDz5FhDaoGr9"
   },
   "source": [
    "Variant"
   ]
  },
  {
   "cell_type": "code",
   "execution_count": 23,
   "metadata": {
    "colab": {},
    "colab_type": "code",
    "id": "BhvgNfE4oGr-"
   },
   "outputs": [
    {
     "data": {
      "text/plain": [
       "[<img aria-label=\"FILE PHOTO: An employee puts down an eighth of an ounce marijuana after letting a customer smell it outside the Magnolia cannabis lounge in Oakland, California, U.S. April 20, 2018. REUTERS/Elijah Nouvelage\" src=\"//web.archive.org/web/20200118131624im_/https://s3.reutersmedia.net/resources/r/?m=02&amp;d=20191001&amp;t=2&amp;i=1435991144&amp;r=LYNXMPEF9039L&amp;w=20\"/>,\n",
       " <img src=\"//web.archive.org/web/20200118131624im_/https://s3.reutersmedia.net/resources/r/?m=02&amp;d=20191001&amp;t=2&amp;i=1435991145&amp;r=LYNXMPEF9039M\"/>]"
      ]
     },
     "execution_count": 23,
     "metadata": {},
     "output_type": "execute_result"
    }
   ],
   "source": [
    "soup.select(\"div.StandardArticleBody_body figure img\")"
   ]
  },
  {
   "cell_type": "code",
   "execution_count": 24,
   "metadata": {
    "colab": {},
    "colab_type": "code",
    "id": "fYs5JpEIoGsB"
   },
   "outputs": [
    {
     "data": {
      "text/plain": [
       "[<figcaption><div class=\"Image_caption\"><span>FILE PHOTO: An employee puts down an eighth of an ounce marijuana after letting a customer smell it outside the Magnolia cannabis lounge in Oakland, California, U.S. April 20, 2018. REUTERS/Elijah Nouvelage</span></div></figcaption>,\n",
       " <figcaption class=\"Slideshow_caption\">Slideshow<span class=\"Slideshow_count\"> (2 Images)</span></figcaption>]"
      ]
     },
     "execution_count": 24,
     "metadata": {},
     "output_type": "execute_result"
    }
   ],
   "source": [
    "soup.select(\"div.StandardArticleBody_body figcaption\")"
   ]
  },
  {
   "cell_type": "markdown",
   "metadata": {
    "colab_type": "text",
    "id": "y3FiDGEwoGsE"
   },
   "source": [
    "## Blueprint: extracting the URL"
   ]
  },
  {
   "cell_type": "code",
   "execution_count": 25,
   "metadata": {
    "colab": {},
    "colab_type": "code",
    "id": "gBSlxZ_YoGsE"
   },
   "outputs": [
    {
     "data": {
      "text/plain": [
       "'http://web.archive.org/web/20200118131624/https://www.reuters.com/article/us-health-vaping-marijuana-idUSKBN1WG4KT'"
      ]
     },
     "execution_count": 25,
     "metadata": {},
     "output_type": "execute_result"
    }
   ],
   "source": [
    "soup.find(\"link\", {'rel': 'canonical'})['href']"
   ]
  },
  {
   "cell_type": "code",
   "execution_count": 26,
   "metadata": {
    "colab": {},
    "colab_type": "code",
    "id": "foiJRIbqoGsI"
   },
   "outputs": [
    {
     "data": {
      "text/plain": [
       "'http://web.archive.org/web/20200118131624/https://www.reuters.com/article/us-health-vaping-marijuana-idUSKBN1WG4KT'"
      ]
     },
     "execution_count": 26,
     "metadata": {},
     "output_type": "execute_result"
    }
   ],
   "source": [
    "soup.select_one(\"link[rel=canonical]\")['href']"
   ]
  },
  {
   "cell_type": "markdown",
   "metadata": {
    "colab_type": "text",
    "id": "YLTcC-5noGsP"
   },
   "source": [
    "## Blueprint: extracting list information (authors)"
   ]
  },
  {
   "cell_type": "code",
   "execution_count": 27,
   "metadata": {
    "colab": {},
    "colab_type": "code",
    "id": "zlZ8yscxoGsP"
   },
   "outputs": [
    {
     "data": {
      "text/plain": [
       "'Jacqueline Tempera'"
      ]
     },
     "execution_count": 27,
     "metadata": {},
     "output_type": "execute_result"
    }
   ],
   "source": [
    "soup.find(\"meta\", {'name': 'Author'})['content']"
   ]
  },
  {
   "cell_type": "markdown",
   "metadata": {
    "colab_type": "text",
    "id": "GOQ5THTUoGsS"
   },
   "source": [
    "Variant"
   ]
  },
  {
   "cell_type": "code",
   "execution_count": 28,
   "metadata": {
    "colab": {},
    "colab_type": "code",
    "id": "7jmcyPksoGsT"
   },
   "outputs": [
    {
     "data": {
      "text/plain": [
       "[<span><a href=\"/web/20200118131624/https://www.reuters.com/journalists/jacqueline-tempera\" target=\"_blank\">Jacqueline Tempera</a>, </span>,\n",
       " <span><a href=\"/web/20200118131624/https://www.reuters.com/journalists/jonathan-allen\" target=\"_blank\">Jonathan Allen</a></span>]"
      ]
     },
     "execution_count": 28,
     "metadata": {},
     "output_type": "execute_result"
    }
   ],
   "source": [
    "sel = \"div.BylineBar_first-container.ArticleHeader_byline-bar div.BylineBar_byline span\"\n",
    "soup.select(sel)"
   ]
  },
  {
   "cell_type": "code",
   "execution_count": 29,
   "metadata": {
    "colab": {},
    "colab_type": "code",
    "id": "9e2XK_1noGsV"
   },
   "outputs": [
    {
     "data": {
      "text/plain": [
       "['Jacqueline Tempera, ', 'Jonathan Allen']"
      ]
     },
     "execution_count": 29,
     "metadata": {},
     "output_type": "execute_result"
    }
   ],
   "source": [
    "[a.text for a in soup.select(sel)]"
   ]
  },
  {
   "cell_type": "markdown",
   "metadata": {
    "colab_type": "text",
    "id": "CIrBNBLDoGsX"
   },
   "source": [
    "## Blueprint: Extracting text of links (section)\n"
   ]
  },
  {
   "cell_type": "code",
   "execution_count": 30,
   "metadata": {
    "colab": {},
    "colab_type": "code",
    "id": "qJn4FH22oGsX"
   },
   "outputs": [
    {
     "data": {
      "text/plain": [
       "'Health News'"
      ]
     },
     "execution_count": 30,
     "metadata": {},
     "output_type": "execute_result"
    }
   ],
   "source": [
    "soup.select_one(\"div.ArticleHeader_channel a\").text"
   ]
  },
  {
   "cell_type": "markdown",
   "metadata": {
    "colab_type": "text",
    "id": "zDbe8eYHoGsZ"
   },
   "source": [
    "## Blueprint: Extracting reading time"
   ]
  },
  {
   "cell_type": "code",
   "execution_count": 31,
   "metadata": {
    "colab": {},
    "colab_type": "code",
    "id": "c0CXIk3CoGsa"
   },
   "outputs": [
    {
     "data": {
      "text/plain": [
       "'6 Min Read'"
      ]
     },
     "execution_count": 31,
     "metadata": {},
     "output_type": "execute_result"
    }
   ],
   "source": [
    "soup.select_one(\"p.BylineBar_reading-time\").text"
   ]
  },
  {
   "cell_type": "markdown",
   "metadata": {
    "colab_type": "text",
    "id": "ICCaNKEKoGse"
   },
   "source": [
    "## Blueprint: extracting attributes (id)"
   ]
  },
  {
   "cell_type": "code",
   "execution_count": 32,
   "metadata": {
    "colab": {},
    "colab_type": "code",
    "id": "bh16e7BDoGsf"
   },
   "outputs": [
    {
     "data": {
      "text/plain": [
       "'USKBN1WG4KT'"
      ]
     },
     "execution_count": 32,
     "metadata": {},
     "output_type": "execute_result"
    }
   ],
   "source": [
    "soup.select_one(\"div.StandardArticle_inner-container\")['id']"
   ]
  },
  {
   "cell_type": "markdown",
   "metadata": {
    "colab_type": "text",
    "id": "-SQdx0SeoGsh"
   },
   "source": [
    "Alternative: URL"
   ]
  },
  {
   "cell_type": "markdown",
   "metadata": {
    "colab_type": "text",
    "id": "nKV2JMERoGsi"
   },
   "source": [
    "## Blueprint: Extracting Attribution"
   ]
  },
  {
   "cell_type": "code",
   "execution_count": 33,
   "metadata": {
    "colab": {},
    "colab_type": "code",
    "id": "QJdtBuLCoGsi"
   },
   "outputs": [
    {
     "data": {
      "text/plain": [
       "'Reporting Jacqueline Tempera in Brookline and Boston, Massachusetts, and Jonathan Allen in New York; Editing by Frank McGurty and Bill Berkrot'"
      ]
     },
     "execution_count": 33,
     "metadata": {},
     "output_type": "execute_result"
    }
   ],
   "source": [
    "soup.select_one(\"p.Attribution_content\").text"
   ]
  },
  {
   "cell_type": "markdown",
   "metadata": {
    "colab_type": "text",
    "id": "QIPmYxxwoGsl"
   },
   "source": [
    "## Blueprint: Extracting Timestamp"
   ]
  },
  {
   "cell_type": "code",
   "execution_count": 34,
   "metadata": {
    "colab": {},
    "colab_type": "code",
    "id": "jzY1mJF2oGsl"
   },
   "outputs": [
    {
     "name": "stdout",
     "output_type": "stream",
     "text": [
      "2019-10-01T19:23:16+0000\n"
     ]
    }
   ],
   "source": [
    "ptime = soup.find(\"meta\", { 'property': \"og:article:published_time\"})['content']\n",
    "print(ptime)"
   ]
  },
  {
   "cell_type": "code",
   "execution_count": 35,
   "metadata": {
    "colab": {},
    "colab_type": "code",
    "id": "jDg1g_AOoGsn"
   },
   "outputs": [
    {
     "data": {
      "text/plain": [
       "datetime.datetime(2019, 10, 1, 19, 23, 16, tzinfo=tzutc())"
      ]
     },
     "execution_count": 35,
     "metadata": {},
     "output_type": "execute_result"
    }
   ],
   "source": [
    "from dateutil import parser\n",
    "parser.parse(ptime)"
   ]
  },
  {
   "cell_type": "code",
   "execution_count": 36,
   "metadata": {
    "colab": {},
    "colab_type": "code",
    "id": "Hflw65HJoGsq"
   },
   "outputs": [
    {
     "data": {
      "text/plain": [
       "datetime.datetime(2019, 10, 1, 19, 23, 16, tzinfo=tzutc())"
      ]
     },
     "execution_count": 36,
     "metadata": {},
     "output_type": "execute_result"
    }
   ],
   "source": [
    "parser.parse(soup.find(\"meta\", { 'property': \"og:article:modified_time\"})['content'])"
   ]
  },
  {
   "cell_type": "markdown",
   "metadata": {
    "colab_type": "text",
    "id": "9bMrACxCoGsv"
   },
   "source": [
    "# Blueprint: Spidering"
   ]
  },
  {
   "cell_type": "code",
   "execution_count": 37,
   "metadata": {
    "colab": {},
    "colab_type": "code",
    "id": "sN3CuAbLoGsw"
   },
   "outputs": [],
   "source": [
    "import requests\n",
    "from bs4 import BeautifulSoup\n",
    "import os.path\n",
    "from dateutil import parser\n",
    "\n",
    "def download_archive_page(page):\n",
    "    filename = \"page-%06d.html\" % page\n",
    "    if not os.path.isfile(filename):\n",
    "        url = \"https://www.reuters.com/news/archive/\" + \\\n",
    "              \"?view=page&page=%d&pageSize=10\" % page\n",
    "        r = requests.get(url)\n",
    "        with open(filename, \"w+\") as f:\n",
    "            f.write(r.text)\n",
    "\n",
    "def parse_archive_page(page_file):\n",
    "    with open(page_file, \"r\") as f:\n",
    "        html = f.read()\n",
    "    soup = BeautifulSoup(html, 'html.parser')\n",
    "    hrefs = [\"https://www.reuters.com\" + a['href'] \n",
    "               for a in soup.select(\"article.story div.story-content a\")]\n",
    "    return hrefs\n",
    "\n",
    "def download_article(url):\n",
    "    # check if article already there\n",
    "    filename = url.split(\"/\")[-1] + \".html\"\n",
    "    if not os.path.isfile(filename):\n",
    "        r = requests.get(url)\n",
    "        with open(filename, \"w+\") as f:\n",
    "            f.write(r.text)\n",
    "\n",
    "def parse_article(article_file):\n",
    "    def find_obfuscated_class(soup, klass):\n",
    "        try:\n",
    "            return soup.find_all(lambda tag: tag.has_attr(\"class\") and (klass in \" \".join(tag[\"class\"])))\n",
    "        except Exception as err:\n",
    "            # print('find_obfuscated_class Exception: {}'.format(err))\n",
    "            return ''\n",
    "    with open(article_file, \"r\") as f:\n",
    "        html = f.read()\n",
    "    r = {}\n",
    "    soup = BeautifulSoup(html, 'html.parser')\n",
    "    try:\n",
    "        r['url'] = soup.find(\"link\", {'rel': 'canonical'})['href']\n",
    "        r['id'] = r['url'].split(\"-\")[-1]\n",
    "        r['headline'] = soup.h1.text\n",
    "        r['section'] = find_obfuscated_class(soup, \"ArticleHeader-channel\")[0].text\n",
    "        r['text'] = \"\\n\".join([t.text for t in find_obfuscated_class(soup, \"Paragraph-paragraph\")])\n",
    "        r['authors'] = find_obfuscated_class(soup, \"Attribution-attribution\")[0].text\n",
    "        r['time'] = soup.find(\"meta\", {'property': \"og:article:published_time\"})['content']\n",
    "        return r\n",
    "    except Exception as err:\n",
    "        # print('Exception: {}'.format(err))\n",
    "        return r"
   ]
  },
  {
   "cell_type": "code",
   "execution_count": 38,
   "metadata": {
    "colab": {},
    "colab_type": "code",
    "id": "gXg3w6XpoGsz"
   },
   "outputs": [],
   "source": [
    "# download 10 pages of archive\n",
    "for p in range(1, 10):\n",
    "    download_archive_page(p)"
   ]
  },
  {
   "cell_type": "code",
   "execution_count": 39,
   "metadata": {
    "colab": {},
    "colab_type": "code",
    "id": "HiANkSUPoGs1"
   },
   "outputs": [],
   "source": [
    "# parse archive and add to article_urls\n",
    "import glob\n",
    "\n",
    "article_urls = []\n",
    "for page_file in glob.glob(\"page-*.html\"):\n",
    "    article_urls += parse_archive_page(page_file)"
   ]
  },
  {
   "cell_type": "code",
   "execution_count": 40,
   "metadata": {
    "colab": {},
    "colab_type": "code",
    "id": "-hCFPEwQoGs3"
   },
   "outputs": [],
   "source": [
    "# download articles\n",
    "for url in article_urls:\n",
    "    download_article(url)"
   ]
  },
  {
   "cell_type": "code",
   "execution_count": 41,
   "metadata": {
    "colab": {},
    "colab_type": "code",
    "id": "LB9q54DZoGs8"
   },
   "outputs": [],
   "source": [
    "# arrange in pandas DataFrame\n",
    "import pandas as pd\n",
    "\n",
    "df = pd.DataFrame()\n",
    "for article_file in glob.glob(\"*-id???????????.html\"):\n",
    "    df = df.append(parse_article(article_file), ignore_index=True)\n",
    "df['time'] = pd.to_datetime(df.time)"
   ]
  },
  {
   "cell_type": "code",
   "execution_count": 42,
   "metadata": {
    "colab": {},
    "colab_type": "code",
    "id": "fgopjGE_oGtA"
   },
   "outputs": [
    {
     "data": {
      "text/html": [
       "<div>\n",
       "<style scoped>\n",
       "    .dataframe tbody tr th:only-of-type {\n",
       "        vertical-align: middle;\n",
       "    }\n",
       "\n",
       "    .dataframe tbody tr th {\n",
       "        vertical-align: top;\n",
       "    }\n",
       "\n",
       "    .dataframe thead th {\n",
       "        text-align: right;\n",
       "    }\n",
       "</style>\n",
       "<table border=\"1\" class=\"dataframe tex2jax_ignore\">\n",
       "  <thead>\n",
       "    <tr style=\"text-align: right;\">\n",
       "      <th></th>\n",
       "      <th>authors</th>\n",
       "      <th>headline</th>\n",
       "      <th>id</th>\n",
       "      <th>section</th>\n",
       "      <th>text</th>\n",
       "      <th>time</th>\n",
       "      <th>url</th>\n",
       "    </tr>\n",
       "  </thead>\n",
       "  <tbody>\n",
       "    <tr>\n",
       "      <th>0</th>\n",
       "      <td>Reporting by Jonathan Landay; Editing by Scott Malone and Peter Cooney</td>\n",
       "      <td>Shaken U.S. Capitol on high alert for Biden's first address to Congress</td>\n",
       "      <td>idUSKBN2CE11G</td>\n",
       "      <td>U.S. News</td>\n",
       "      <td>WASHINGTON (Reuters) - President Joe Biden’s first address to a joint session of Congress on Wednesday will take place in a U.S. Capitol on high alert, with memories fresh of the deadly Jan. 6 att...</td>\n",
       "      <td>2021-04-27 10:05:22+00:00</td>\n",
       "      <td>https://www.reuters.com/article/us-usa-biden-capitol-security-idUSKBN2CE11G</td>\n",
       "    </tr>\n",
       "    <tr>\n",
       "      <th>1</th>\n",
       "      <td>Reporting by Guy Faulconbridge, editing by Estelle Shirbon</td>\n",
       "      <td>Anthony Hopkins pays tribute to Chadwick Boseman in Oscar message</td>\n",
       "      <td>idUSKBN2CD2AA</td>\n",
       "      <td>Entertainment News</td>\n",
       "      <td>LONDON (Reuters) - Anthony Hopkins paid tribute to the late Chadwick Boseman in a message thanking the Academy of Motion Picture Arts and Sciences for awarding him an Oscar that had been widely ex...</td>\n",
       "      <td>2021-04-26 17:27:29+00:00</td>\n",
       "      <td>https://www.reuters.com/article/us-awards-oscars-actor-hopkins-idUSKBN2CD2AA</td>\n",
       "    </tr>\n",
       "    <tr>\n",
       "      <th>2</th>\n",
       "      <td>NaN</td>\n",
       "      <td>United StatesRepublicans unveil $568 bln infrastructure package to counter Biden</td>\n",
       "      <td>22/</td>\n",
       "      <td>NaN</td>\n",
       "      <td>NaN</td>\n",
       "      <td>NaT</td>\n",
       "      <td>https://www.reuters.com/world/us/republicans-unveil-568-bln-infrastructure-package-counter-bidens-23-trillion-2021-04-22/</td>\n",
       "    </tr>\n",
       "    <tr>\n",
       "      <th>3</th>\n",
       "      <td>NaN</td>\n",
       "      <td>United StatesL.A. develops homelessness strategy, but does it have political will?</td>\n",
       "      <td>22/</td>\n",
       "      <td>NaN</td>\n",
       "      <td>NaN</td>\n",
       "      <td>NaT</td>\n",
       "      <td>https://www.reuters.com/world/us/la-develops-homelessness-strategy-does-it-have-political-will-2021-04-22/</td>\n",
       "    </tr>\n",
       "    <tr>\n",
       "      <th>4</th>\n",
       "      <td>NaN</td>\n",
       "      <td>LifestyleHistory-making Oscars asks viewers to 'Bring your movie love'</td>\n",
       "      <td>25/</td>\n",
       "      <td>NaN</td>\n",
       "      <td>NaN</td>\n",
       "      <td>NaT</td>\n",
       "      <td>https://www.reuters.com/lifestyle/history-making-oscars-asks-viewers-bring-your-movie-love-2021-04-25/</td>\n",
       "    </tr>\n",
       "    <tr>\n",
       "      <th>...</th>\n",
       "      <td>...</td>\n",
       "      <td>...</td>\n",
       "      <td>...</td>\n",
       "      <td>...</td>\n",
       "      <td>...</td>\n",
       "      <td>...</td>\n",
       "      <td>...</td>\n",
       "    </tr>\n",
       "    <tr>\n",
       "      <th>107</th>\n",
       "      <td>Reporting by David Shepardson; Editing by Chizu Nomiyama</td>\n",
       "      <td>Exclusive: U.S. to ease travel restrictions for Chinese students - sources</td>\n",
       "      <td>idUSKBN2CE1UX</td>\n",
       "      <td>americas-test-2</td>\n",
       "      <td>WASHINGTON (Reuters) - The Biden administration will ease travel restrictions allowing Chinese students to come to the United States for classes this fall and from other countries where most non-U...</td>\n",
       "      <td>2021-04-27 14:38:16+00:00</td>\n",
       "      <td>https://www.reuters.com/article/us-usa-china-students-exclusive-idUSKBN2CE1UX</td>\n",
       "    </tr>\n",
       "    <tr>\n",
       "      <th>108</th>\n",
       "      <td>Reporting by Tuvan Gumrukcu and Ezgi Erkoyun; Writing by Jonathan Spicer; Editing by Dominic Evans, David Gregorio and Howard Goller</td>\n",
       "      <td>Erdogan urges Biden to reverse 'wrong step' on Armenian declaration</td>\n",
       "      <td>idUSKBN2CD2BY</td>\n",
       "      <td>Middle East &amp; Africa</td>\n",
       "      <td>ANKARA (Reuters) -Turkish President Tayyip Erdogan urged U.S. President Joe Biden to swiftly reverse his declaration that 1915 massacres of Armenians in the Ottoman Empire constituted genocide, an...</td>\n",
       "      <td>2021-04-26 17:51:37+00:00</td>\n",
       "      <td>https://www.reuters.com/article/turkey-usa-armenia-erdogan-int-idUSKBN2CD2BY</td>\n",
       "    </tr>\n",
       "    <tr>\n",
       "      <th>109</th>\n",
       "      <td>NaN</td>\n",
       "      <td>United StatesU.S. Supreme Court leans toward conservative groups on concealing donors</td>\n",
       "      <td>26/</td>\n",
       "      <td>NaN</td>\n",
       "      <td>NaN</td>\n",
       "      <td>NaT</td>\n",
       "      <td>https://www.reuters.com/world/us/us-supreme-court-weighs-conservative-groups-bid-conceal-donors-2021-04-26/</td>\n",
       "    </tr>\n",
       "    <tr>\n",
       "      <th>110</th>\n",
       "      <td>NaN</td>\n",
       "      <td>Legal Guilty verdict for George Floyd’s killer brings relief, calls for wider justice</td>\n",
       "      <td>20/</td>\n",
       "      <td>NaN</td>\n",
       "      <td>NaN</td>\n",
       "      <td>NaT</td>\n",
       "      <td>https://www.reuters.com/business/legal/nervous-anticipation-turns-joy-former-police-officer-chauvin-found-guilty-2021-04-20/</td>\n",
       "    </tr>\n",
       "    <tr>\n",
       "      <th>111</th>\n",
       "      <td>NaN</td>\n",
       "      <td>EnergyExxon retreated from oil trading in pandemic as rivals made fortunes</td>\n",
       "      <td>26/</td>\n",
       "      <td>NaN</td>\n",
       "      <td>NaN</td>\n",
       "      <td>NaT</td>\n",
       "      <td>https://www.reuters.com/business/energy/exxon-retreated-oil-trading-pandemic-rivals-made-fortunes-2021-04-26/</td>\n",
       "    </tr>\n",
       "  </tbody>\n",
       "</table>\n",
       "<p>112 rows × 7 columns</p>\n",
       "</div>"
      ],
      "text/plain": [
       "                                                                                                                                  authors  \\\n",
       "0                                                                  Reporting by Jonathan Landay; Editing by Scott Malone and Peter Cooney   \n",
       "1                                                                              Reporting by Guy Faulconbridge, editing by Estelle Shirbon   \n",
       "2                                                                                                                                     NaN   \n",
       "3                                                                                                                                     NaN   \n",
       "4                                                                                                                                     NaN   \n",
       "..                                                                                                                                    ...   \n",
       "107                                                                              Reporting by David Shepardson; Editing by Chizu Nomiyama   \n",
       "108  Reporting by Tuvan Gumrukcu and Ezgi Erkoyun; Writing by Jonathan Spicer; Editing by Dominic Evans, David Gregorio and Howard Goller   \n",
       "109                                                                                                                                   NaN   \n",
       "110                                                                                                                                   NaN   \n",
       "111                                                                                                                                   NaN   \n",
       "\n",
       "                                                                                  headline  \\\n",
       "0                  Shaken U.S. Capitol on high alert for Biden's first address to Congress   \n",
       "1                        Anthony Hopkins pays tribute to Chadwick Boseman in Oscar message   \n",
       "2         United StatesRepublicans unveil $568 bln infrastructure package to counter Biden   \n",
       "3       United StatesL.A. develops homelessness strategy, but does it have political will?   \n",
       "4                   LifestyleHistory-making Oscars asks viewers to 'Bring your movie love'   \n",
       "..                                                                                     ...   \n",
       "107             Exclusive: U.S. to ease travel restrictions for Chinese students - sources   \n",
       "108                    Erdogan urges Biden to reverse 'wrong step' on Armenian declaration   \n",
       "109  United StatesU.S. Supreme Court leans toward conservative groups on concealing donors   \n",
       "110  Legal Guilty verdict for George Floyd’s killer brings relief, calls for wider justice   \n",
       "111             EnergyExxon retreated from oil trading in pandemic as rivals made fortunes   \n",
       "\n",
       "                id               section  \\\n",
       "0    idUSKBN2CE11G             U.S. News   \n",
       "1    idUSKBN2CD2AA    Entertainment News   \n",
       "2              22/                   NaN   \n",
       "3              22/                   NaN   \n",
       "4              25/                   NaN   \n",
       "..             ...                   ...   \n",
       "107  idUSKBN2CE1UX       americas-test-2   \n",
       "108  idUSKBN2CD2BY  Middle East & Africa   \n",
       "109            26/                   NaN   \n",
       "110            20/                   NaN   \n",
       "111            26/                   NaN   \n",
       "\n",
       "                                                                                                                                                                                                        text  \\\n",
       "0    WASHINGTON (Reuters) - President Joe Biden’s first address to a joint session of Congress on Wednesday will take place in a U.S. Capitol on high alert, with memories fresh of the deadly Jan. 6 att...   \n",
       "1    LONDON (Reuters) - Anthony Hopkins paid tribute to the late Chadwick Boseman in a message thanking the Academy of Motion Picture Arts and Sciences for awarding him an Oscar that had been widely ex...   \n",
       "2                                                                                                                                                                                                        NaN   \n",
       "3                                                                                                                                                                                                        NaN   \n",
       "4                                                                                                                                                                                                        NaN   \n",
       "..                                                                                                                                                                                                       ...   \n",
       "107  WASHINGTON (Reuters) - The Biden administration will ease travel restrictions allowing Chinese students to come to the United States for classes this fall and from other countries where most non-U...   \n",
       "108  ANKARA (Reuters) -Turkish President Tayyip Erdogan urged U.S. President Joe Biden to swiftly reverse his declaration that 1915 massacres of Armenians in the Ottoman Empire constituted genocide, an...   \n",
       "109                                                                                                                                                                                                      NaN   \n",
       "110                                                                                                                                                                                                      NaN   \n",
       "111                                                                                                                                                                                                      NaN   \n",
       "\n",
       "                         time  \\\n",
       "0   2021-04-27 10:05:22+00:00   \n",
       "1   2021-04-26 17:27:29+00:00   \n",
       "2                         NaT   \n",
       "3                         NaT   \n",
       "4                         NaT   \n",
       "..                        ...   \n",
       "107 2021-04-27 14:38:16+00:00   \n",
       "108 2021-04-26 17:51:37+00:00   \n",
       "109                       NaT   \n",
       "110                       NaT   \n",
       "111                       NaT   \n",
       "\n",
       "                                                                                                                              url  \n",
       "0                                                     https://www.reuters.com/article/us-usa-biden-capitol-security-idUSKBN2CE11G  \n",
       "1                                                    https://www.reuters.com/article/us-awards-oscars-actor-hopkins-idUSKBN2CD2AA  \n",
       "2       https://www.reuters.com/world/us/republicans-unveil-568-bln-infrastructure-package-counter-bidens-23-trillion-2021-04-22/  \n",
       "3                      https://www.reuters.com/world/us/la-develops-homelessness-strategy-does-it-have-political-will-2021-04-22/  \n",
       "4                          https://www.reuters.com/lifestyle/history-making-oscars-asks-viewers-bring-your-movie-love-2021-04-25/  \n",
       "..                                                                                                                            ...  \n",
       "107                                                 https://www.reuters.com/article/us-usa-china-students-exclusive-idUSKBN2CE1UX  \n",
       "108                                                  https://www.reuters.com/article/turkey-usa-armenia-erdogan-int-idUSKBN2CD2BY  \n",
       "109                   https://www.reuters.com/world/us/us-supreme-court-weighs-conservative-groups-bid-conceal-donors-2021-04-26/  \n",
       "110  https://www.reuters.com/business/legal/nervous-anticipation-turns-joy-former-police-officer-chauvin-found-guilty-2021-04-20/  \n",
       "111                 https://www.reuters.com/business/energy/exxon-retreated-oil-trading-pandemic-rivals-made-fortunes-2021-04-26/  \n",
       "\n",
       "[112 rows x 7 columns]"
      ]
     },
     "execution_count": 42,
     "metadata": {},
     "output_type": "execute_result"
    }
   ],
   "source": [
    "df"
   ]
  },
  {
   "cell_type": "code",
   "execution_count": 43,
   "metadata": {
    "colab": {},
    "colab_type": "code",
    "id": "bxHMZZAIoGtG"
   },
   "outputs": [
    {
     "data": {
      "text/html": [
       "<div>\n",
       "<style scoped>\n",
       "    .dataframe tbody tr th:only-of-type {\n",
       "        vertical-align: middle;\n",
       "    }\n",
       "\n",
       "    .dataframe tbody tr th {\n",
       "        vertical-align: top;\n",
       "    }\n",
       "\n",
       "    .dataframe thead th {\n",
       "        text-align: right;\n",
       "    }\n",
       "</style>\n",
       "<table border=\"1\" class=\"dataframe tex2jax_ignore\">\n",
       "  <thead>\n",
       "    <tr style=\"text-align: right;\">\n",
       "      <th></th>\n",
       "      <th>authors</th>\n",
       "      <th>headline</th>\n",
       "      <th>id</th>\n",
       "      <th>section</th>\n",
       "      <th>text</th>\n",
       "      <th>time</th>\n",
       "      <th>url</th>\n",
       "    </tr>\n",
       "  </thead>\n",
       "  <tbody>\n",
       "    <tr>\n",
       "      <th>26</th>\n",
       "      <td>Reporting Jacqueline Tempera in Brookline and Boston, Massachusetts, and Jonathan Allen in New York; Editing by Frank McGurty and Bill Berkrot</td>\n",
       "      <td>Banned in Boston: Without vaping, medical marijuana patients must adapt</td>\n",
       "      <td>idUSKBN1WG4KT</td>\n",
       "      <td>Healthcare &amp; Pharma</td>\n",
       "      <td>BOSTON (Reuters) - In the first few days of the four-month ban on all vaping products in Massachusetts, Laura Lee Medeiros, a medical marijuana patient, began to worry.\\nThe 32-year-old massage th...</td>\n",
       "      <td>2019-10-01 18:35:04+00:00</td>\n",
       "      <td>https://www.reuters.com/article/us-health-vaping-marijuana-idUSKBN1WG4KT</td>\n",
       "    </tr>\n",
       "    <tr>\n",
       "      <th>56</th>\n",
       "      <td>Reporting by Daniel Trotta in Vista, California; Additional reporting by Emily Chow in Shanghai and Lisa Richwine in Los Angeles; Editing by Andrea Ricci and Howard Goller</td>\n",
       "      <td>Winning director Zhao makes Oscars history, but honor censored in China</td>\n",
       "      <td>idUSKBN2CD02B</td>\n",
       "      <td>Media News</td>\n",
       "      <td>(Corrects boarding school venue in paragraph 5 to England from London and host of screening in paragraph 9 to NYU alumni from NYU)\\n(Reuters) -Chloe Zhao made history as the first Asian woman and ...</td>\n",
       "      <td>2021-04-26 01:04:56+00:00</td>\n",
       "      <td>https://www.reuters.com/article/us-awards-oscars-director-idUSKBN2CD02B</td>\n",
       "    </tr>\n",
       "    <tr>\n",
       "      <th>31</th>\n",
       "      <td>Reporting by Aram Roston in Washington. Editing by Ronnie Greene</td>\n",
       "      <td>Exclusive: Before Jan. 6, FBI collected information from at least 4 Proud Boys</td>\n",
       "      <td>idUSKBN2CD1WL</td>\n",
       "      <td>U.S. News</td>\n",
       "      <td>WASHINGTON (Reuters) - Among the far-right groups whose members are suspected of planning the Jan. 6 attack on the U.S. Capitol are the Proud Boys. In March, the Federal Bureau of Investigation’s ...</td>\n",
       "      <td>2021-04-26 14:59:01+00:00</td>\n",
       "      <td>https://www.reuters.com/article/us-usa-proudboys-fbi-exclusive-idUSKBN2CD1WL</td>\n",
       "    </tr>\n",
       "    <tr>\n",
       "      <th>60</th>\n",
       "      <td>Reporting by Joseph AxAdditional reporting by Jason Lange and Doina ChiacuEditing by Colleen Jenkins, Bill Berkrot and Sonya Hepinstall</td>\n",
       "      <td>U.S. census hands more House seats to Republican strongholds Texas, Florida</td>\n",
       "      <td>idUSKBN2CD1Y0</td>\n",
       "      <td>U.S. News</td>\n",
       "      <td>(Reuters) -Texas, Florida and North Carolina are among the states that will gain congressional seats based on new population data from the U.S. census, a shift that could boost Republican chances ...</td>\n",
       "      <td>2021-04-26 15:13:24+00:00</td>\n",
       "      <td>https://www.reuters.com/article/us-usa-census-idUSKBN2CD1Y0</td>\n",
       "    </tr>\n",
       "    <tr>\n",
       "      <th>88</th>\n",
       "      <td>Reporting by Emma Farge, Stephanie Nebehay and Michael Shields; Writing by Peter Graff; Editing by Hugh Lawson and Mark Potter</td>\n",
       "      <td>Situation in India 'beyond heartbreaking', WHO chief says</td>\n",
       "      <td>idUSKBN2CD238</td>\n",
       "      <td>Healthcare &amp; Pharmaceuticals</td>\n",
       "      <td>GENEVA (Reuters) -The situation in India, where COVID-19 cases have surged, is “beyond heartbreaking”, and the World Health Organization is sending extra staff and supplies there to help fight the...</td>\n",
       "      <td>2021-04-26 16:00:13+00:00</td>\n",
       "      <td>https://www.reuters.com/article/us-health-coronavirus-india-who-idUSKBN2CD238</td>\n",
       "    </tr>\n",
       "    <tr>\n",
       "      <th>...</th>\n",
       "      <td>...</td>\n",
       "      <td>...</td>\n",
       "      <td>...</td>\n",
       "      <td>...</td>\n",
       "      <td>...</td>\n",
       "      <td>...</td>\n",
       "      <td>...</td>\n",
       "    </tr>\n",
       "    <tr>\n",
       "      <th>105</th>\n",
       "      <td>NaN</td>\n",
       "      <td>Middle EastEU says Iran talks in Vienna to resume on Tuesday</td>\n",
       "      <td>26/</td>\n",
       "      <td>NaN</td>\n",
       "      <td>NaN</td>\n",
       "      <td>NaT</td>\n",
       "      <td>https://www.reuters.com/world/middle-east/eu-says-iran-talks-vienna-resume-tuesday-2021-04-26/</td>\n",
       "    </tr>\n",
       "    <tr>\n",
       "      <th>106</th>\n",
       "      <td>NaN</td>\n",
       "      <td>United StatesFormer U.S. vice president Walter Mondale dies at 93 -Axios</td>\n",
       "      <td>20/</td>\n",
       "      <td>NaN</td>\n",
       "      <td>NaN</td>\n",
       "      <td>NaT</td>\n",
       "      <td>https://www.reuters.com/world/us/former-us-vice-president-walter-mondale-dies-93-axios-2021-04-20/</td>\n",
       "    </tr>\n",
       "    <tr>\n",
       "      <th>109</th>\n",
       "      <td>NaN</td>\n",
       "      <td>United StatesU.S. Supreme Court leans toward conservative groups on concealing donors</td>\n",
       "      <td>26/</td>\n",
       "      <td>NaN</td>\n",
       "      <td>NaN</td>\n",
       "      <td>NaT</td>\n",
       "      <td>https://www.reuters.com/world/us/us-supreme-court-weighs-conservative-groups-bid-conceal-donors-2021-04-26/</td>\n",
       "    </tr>\n",
       "    <tr>\n",
       "      <th>110</th>\n",
       "      <td>NaN</td>\n",
       "      <td>Legal Guilty verdict for George Floyd’s killer brings relief, calls for wider justice</td>\n",
       "      <td>20/</td>\n",
       "      <td>NaN</td>\n",
       "      <td>NaN</td>\n",
       "      <td>NaT</td>\n",
       "      <td>https://www.reuters.com/business/legal/nervous-anticipation-turns-joy-former-police-officer-chauvin-found-guilty-2021-04-20/</td>\n",
       "    </tr>\n",
       "    <tr>\n",
       "      <th>111</th>\n",
       "      <td>NaN</td>\n",
       "      <td>EnergyExxon retreated from oil trading in pandemic as rivals made fortunes</td>\n",
       "      <td>26/</td>\n",
       "      <td>NaN</td>\n",
       "      <td>NaN</td>\n",
       "      <td>NaT</td>\n",
       "      <td>https://www.reuters.com/business/energy/exxon-retreated-oil-trading-pandemic-rivals-made-fortunes-2021-04-26/</td>\n",
       "    </tr>\n",
       "  </tbody>\n",
       "</table>\n",
       "<p>112 rows × 7 columns</p>\n",
       "</div>"
      ],
      "text/plain": [
       "                                                                                                                                                                         authors  \\\n",
       "26                                Reporting Jacqueline Tempera in Brookline and Boston, Massachusetts, and Jonathan Allen in New York; Editing by Frank McGurty and Bill Berkrot   \n",
       "56   Reporting by Daniel Trotta in Vista, California; Additional reporting by Emily Chow in Shanghai and Lisa Richwine in Los Angeles; Editing by Andrea Ricci and Howard Goller   \n",
       "31                                                                                                              Reporting by Aram Roston in Washington. Editing by Ronnie Greene   \n",
       "60                                       Reporting by Joseph AxAdditional reporting by Jason Lange and Doina ChiacuEditing by Colleen Jenkins, Bill Berkrot and Sonya Hepinstall   \n",
       "88                                                Reporting by Emma Farge, Stephanie Nebehay and Michael Shields; Writing by Peter Graff; Editing by Hugh Lawson and Mark Potter   \n",
       "..                                                                                                                                                                           ...   \n",
       "105                                                                                                                                                                          NaN   \n",
       "106                                                                                                                                                                          NaN   \n",
       "109                                                                                                                                                                          NaN   \n",
       "110                                                                                                                                                                          NaN   \n",
       "111                                                                                                                                                                          NaN   \n",
       "\n",
       "                                                                                  headline  \\\n",
       "26                 Banned in Boston: Without vaping, medical marijuana patients must adapt   \n",
       "56                 Winning director Zhao makes Oscars history, but honor censored in China   \n",
       "31          Exclusive: Before Jan. 6, FBI collected information from at least 4 Proud Boys   \n",
       "60             U.S. census hands more House seats to Republican strongholds Texas, Florida   \n",
       "88                               Situation in India 'beyond heartbreaking', WHO chief says   \n",
       "..                                                                                     ...   \n",
       "105                           Middle EastEU says Iran talks in Vienna to resume on Tuesday   \n",
       "106               United StatesFormer U.S. vice president Walter Mondale dies at 93 -Axios   \n",
       "109  United StatesU.S. Supreme Court leans toward conservative groups on concealing donors   \n",
       "110  Legal Guilty verdict for George Floyd’s killer brings relief, calls for wider justice   \n",
       "111             EnergyExxon retreated from oil trading in pandemic as rivals made fortunes   \n",
       "\n",
       "                id                       section  \\\n",
       "26   idUSKBN1WG4KT           Healthcare & Pharma   \n",
       "56   idUSKBN2CD02B                    Media News   \n",
       "31   idUSKBN2CD1WL                     U.S. News   \n",
       "60   idUSKBN2CD1Y0                     U.S. News   \n",
       "88   idUSKBN2CD238  Healthcare & Pharmaceuticals   \n",
       "..             ...                           ...   \n",
       "105            26/                           NaN   \n",
       "106            20/                           NaN   \n",
       "109            26/                           NaN   \n",
       "110            20/                           NaN   \n",
       "111            26/                           NaN   \n",
       "\n",
       "                                                                                                                                                                                                        text  \\\n",
       "26   BOSTON (Reuters) - In the first few days of the four-month ban on all vaping products in Massachusetts, Laura Lee Medeiros, a medical marijuana patient, began to worry.\\nThe 32-year-old massage th...   \n",
       "56   (Corrects boarding school venue in paragraph 5 to England from London and host of screening in paragraph 9 to NYU alumni from NYU)\\n(Reuters) -Chloe Zhao made history as the first Asian woman and ...   \n",
       "31   WASHINGTON (Reuters) - Among the far-right groups whose members are suspected of planning the Jan. 6 attack on the U.S. Capitol are the Proud Boys. In March, the Federal Bureau of Investigation’s ...   \n",
       "60   (Reuters) -Texas, Florida and North Carolina are among the states that will gain congressional seats based on new population data from the U.S. census, a shift that could boost Republican chances ...   \n",
       "88   GENEVA (Reuters) -The situation in India, where COVID-19 cases have surged, is “beyond heartbreaking”, and the World Health Organization is sending extra staff and supplies there to help fight the...   \n",
       "..                                                                                                                                                                                                       ...   \n",
       "105                                                                                                                                                                                                      NaN   \n",
       "106                                                                                                                                                                                                      NaN   \n",
       "109                                                                                                                                                                                                      NaN   \n",
       "110                                                                                                                                                                                                      NaN   \n",
       "111                                                                                                                                                                                                      NaN   \n",
       "\n",
       "                         time  \\\n",
       "26  2019-10-01 18:35:04+00:00   \n",
       "56  2021-04-26 01:04:56+00:00   \n",
       "31  2021-04-26 14:59:01+00:00   \n",
       "60  2021-04-26 15:13:24+00:00   \n",
       "88  2021-04-26 16:00:13+00:00   \n",
       "..                        ...   \n",
       "105                       NaT   \n",
       "106                       NaT   \n",
       "109                       NaT   \n",
       "110                       NaT   \n",
       "111                       NaT   \n",
       "\n",
       "                                                                                                                              url  \n",
       "26                                                       https://www.reuters.com/article/us-health-vaping-marijuana-idUSKBN1WG4KT  \n",
       "56                                                        https://www.reuters.com/article/us-awards-oscars-director-idUSKBN2CD02B  \n",
       "31                                                   https://www.reuters.com/article/us-usa-proudboys-fbi-exclusive-idUSKBN2CD1WL  \n",
       "60                                                                    https://www.reuters.com/article/us-usa-census-idUSKBN2CD1Y0  \n",
       "88                                                  https://www.reuters.com/article/us-health-coronavirus-india-who-idUSKBN2CD238  \n",
       "..                                                                                                                            ...  \n",
       "105                                https://www.reuters.com/world/middle-east/eu-says-iran-talks-vienna-resume-tuesday-2021-04-26/  \n",
       "106                            https://www.reuters.com/world/us/former-us-vice-president-walter-mondale-dies-93-axios-2021-04-20/  \n",
       "109                   https://www.reuters.com/world/us/us-supreme-court-weighs-conservative-groups-bid-conceal-donors-2021-04-26/  \n",
       "110  https://www.reuters.com/business/legal/nervous-anticipation-turns-joy-former-police-officer-chauvin-found-guilty-2021-04-20/  \n",
       "111                 https://www.reuters.com/business/energy/exxon-retreated-oil-trading-pandemic-rivals-made-fortunes-2021-04-26/  \n",
       "\n",
       "[112 rows x 7 columns]"
      ]
     },
     "execution_count": 43,
     "metadata": {},
     "output_type": "execute_result"
    }
   ],
   "source": [
    "df.sort_values(\"time\")"
   ]
  },
  {
   "cell_type": "code",
   "execution_count": 44,
   "metadata": {
    "colab": {},
    "colab_type": "code",
    "id": "NhCZINTsoGtL"
   },
   "outputs": [
    {
     "data": {
      "text/plain": [
       "<AxesSubplot:xlabel='time'>"
      ]
     },
     "execution_count": 44,
     "metadata": {},
     "output_type": "execute_result"
    },
    {
     "data": {
      "image/png": "[encoded data removed]",
      "text/plain": [
       "<Figure size 432x288 with 1 Axes>"
      ]
     },
     "metadata": {
      "needs_background": "light"
     },
     "output_type": "display_data"
    }
   ],
   "source": [
    "%matplotlib inline\n",
    "df[df[\"time\"]>='2020-01-01'].set_index(\"time\").resample('D').agg({'id': 'count'}).plot.bar()"
   ]
  },
  {
   "cell_type": "markdown",
   "metadata": {
    "colab_type": "text",
    "id": "sEOq6qbhoGtS"
   },
   "source": [
    "# Blueprint Density extraction"
   ]
  },
  {
   "cell_type": "code",
   "execution_count": 45,
   "metadata": {
    "colab": {},
    "colab_type": "code",
    "id": "nSXyuG3koGtS"
   },
   "outputs": [
    {
     "data": {
      "text/plain": [
       "'Banned in Boston: Without vaping, medical marijuana patients must adapt - Reuters'"
      ]
     },
     "execution_count": 45,
     "metadata": {},
     "output_type": "execute_result"
    }
   ],
   "source": [
    "from readability import Document\n",
    "\n",
    "doc = Document(html)\n",
    "doc.title()"
   ]
  },
  {
   "cell_type": "code",
   "execution_count": 46,
   "metadata": {
    "colab": {},
    "colab_type": "code",
    "id": "pIdpL1uioGtV"
   },
   "outputs": [
    {
     "data": {
      "text/plain": [
       "'Banned in Boston: Without vaping, medical marijuana patients must adapt'"
      ]
     },
     "execution_count": 46,
     "metadata": {},
     "output_type": "execute_result"
    }
   ],
   "source": [
    "doc.short_title()"
   ]
  },
  {
   "cell_type": "code",
   "execution_count": 47,
   "metadata": {
    "colab": {},
    "colab_type": "code",
    "id": "miUQs2hSoGtY"
   },
   "outputs": [
    {
     "data": {
      "text/plain": [
       "'<html><body><div><div class=\"StandardArticleBody_body\"><p>BOSTON (Reuters) - In the first few days of the four-month ban on all vaping products in Massachusetts, Laura Lee Medeiros, a medical marijuana patient, began to worry.\\xa0 </p><div class=\"PrimaryAsset_container\"><div class=\"Image_container\" tabindex=\"-1\"><figure class=\"Image_zoom\"></figure><figcaption><p class=\"Image_caption\"><span>FILE PHOTO: An employee puts down an eighth of an ounce marijuana after letting a customer smell it outside the Magnolia cannabis lounge in Oakland, California, U.S. April 20, 2018. REUTERS/Elijah Nouvelage</span></p></figcaption></div></div><p>The 32-year-old massage therapist has a diagnosis of post-traumatic stress disorder (PTSD) from childhood trauma. To temper her unpredictable panic attacks, she relied on a vape pen and cartridges filled with the marijuana derivatives THC and CBD from state dispensaries. </p><p>There are other ways to get the desired effect from  marijuana, and patients have filled dispensaries across the state in recent days to ask about edible or smokeable forms. But Medeiros has come to depend on her battery-powered pen, and wondered how she would cope without her usual supply of cartridges.  </p><p>“In the midst of something where I’m on the floor, on the verge of passing out, my pen has been very helpful for me to grab,” she said. She carries her vape pen in her purse in case of an emergency, but has only one cartridge left. </p><p>Massachusetts imposed its ban on all vaping products, including both nicotine- and cannabis-based products, in response to mounting concern about the potential serious health risks. Governor Charlie Baker, a Republican, said the ban would last at least four months while new legislation and regulation is explored.  </p><p>More than 800 cases of a vaping-related lung disease and 12 deaths across 10 U.S. states have so far been reported by the U.S. Centers for Disease Control and Prevention. Those numbers are expected to climb.  </p><p>More than three quarters of those with the respiratory illness reported vaping THC, the main psychoactive ingredient of marijuana. Many of them used small e-cigarette cartridges, or “carts,” bought on the black market, where the risk of adulterated products is high. </p><p>Marijuana remains illegal under federal law, but a growing number of states allow it for medical or recreational use. Massachusetts is one of 10 U.S. states that allows both uses, along with the District of Columbia. </p><p>Some marijuana users had long eschewed vaping even before the ban, often on the advice of doctors who saw the cocktail of compounds being inhaled into lungs as risky. </p><p>“I have advised against the vape carts for my patients for a long time exactly out of suspicion of basically what just happened,” said Dr. Ryan Zaklin, a doctor in Salem, Massachusetts. “Who the hell knows what they’re putting in them?” </p><p>Some patients like vaping because it is more discreet than traditional burning of marijuana “flower.” The devices are small, produce a relatively odorless “vapor” and is fast-acting: a handheld device rapidly heats liquid compounds into an aerosol that can be inhaled into the lungs.  </p><p>Many of those patients are now asking their doctors or dispensaries about edible forms of marijuana, liquid tinctures that can be dropped under the tongue or old-fashioned flower buds and pre-rolled joints for smoking.  </p><p>For Medeiros, who lives in the small coastal city of Peabody, other methods are a poor substitute. She found that edibles take time to take effect, typically about an hour. Tinctures seemed to her similarly slow-acting. And rolling a joint while her vision is closing in and she is hyperventilating from a panic attack is nearly impossible, she said. </p><h3>UNEXPECTED BLESSING </h3><p>Medeiros wishes medical marijuana patients had been given time to stock up on the products they use before the ban went into immediate effect.  </p><p>Pressed on such concerns, the governor has not been swayed to change his decision over what he said was a public health emergency. </p><p>“There are many alternative uses available to people who currently have prescriptions for medical marijuana and they should pursue those,” Baker told reporters last week, according to local media. </p><p>But some public health experts have warned the ban may drive more people toward riskier black-market, totally unregulated vape products.      </p><p>At the New England Treatment Access (NETA) dispensary in Brookline, near Boston, which has become one of the biggest suppliers of medical marijuana since the drug became legalized in the state in 2012, several patients said they view the ban as an unexpected blessing. </p><p>Denise Sullivan, 62, uses medical marijuana to treat symptoms of her leukemia. She had vaped for more than a year, but stopped after she heard about the ban. During the period she vaped, she contracted pneumonia five times, she said, and now believes that might have been vape related.\\xa0 </p><p>“I can tell when I vape I am more congested not in my lungs but in my sinuses,” she said. She plans to use edibles, which she said kick in with enough time to treat her pain. </p><p>Kate LeDoux, 49, had a similar experience. She is a runner and used medical marijuana to help recovery from recent foot surgery.  LeDoux stopped vaping a few weeks ago after seeing the news about the lung disease, turning instead to edibles and smoking. </p><p>Almost immediately, her “weird cough” cleared up and her running times improved, she said. “Now I know it was 100 percent the vaping.” </p><p>(This story has been refiled to to correct date). </p><div class=\"Attribution_container\"><div class=\"Attribution_attribution\"><p class=\"Attribution_content\">Reporting Jacqueline Tempera in Brookline and Boston, Massachusetts, and Jonathan Allen in New York; Editing by Frank McGurty and Bill Berkrot</p></div></div></div></div></body></html>'"
      ]
     },
     "execution_count": 47,
     "metadata": {},
     "output_type": "execute_result"
    }
   ],
   "source": [
    "doc.summary()"
   ]
  },
  {
   "cell_type": "code",
   "execution_count": 48,
   "metadata": {
    "colab": {},
    "colab_type": "code",
    "id": "djroMQLJoGtb"
   },
   "outputs": [],
   "source": [
    "doc.url"
   ]
  },
  {
   "cell_type": "code",
   "execution_count": 49,
   "metadata": {
    "colab": {},
    "colab_type": "code",
    "id": "jP7u6JetoGtm",
    "scrolled": true
   },
   "outputs": [
    {
     "data": {
      "text/plain": [
       "'BOSTON (Reuters) - In the first few days of the four-month ban on all vaping products in Massachusetts, Laura Lee Medeiros, a medical marijuana patient, began to worry.\\xa0 FILE PHOTO: An employee puts down an eighth of an ounce marijuana after letting a customer smell it outside the Magnolia cannabis lounge in Oakland, California, U.S. April 20, 2018. REUTERS/Elijah NouvelageThe 32-year-old massage therapist has a diagnosis of post-traumatic stress disorder (PTSD) from childhood trauma. To temper her unpredictable panic attacks, she relied on a vape pen and cartridges filled with the marijuana derivatives THC and CBD from state dispensaries. There are other ways to get the desired effect from  marijuana, and patients have filled dispensaries across the state in recent days to ask about edible or smokeable forms. But Medeiros has come to depend on her battery-powered pen, and wondered how she would cope without her usual supply of cartridges.  “In the midst of something where I’m on the floor, on the verge of passing out, my pen has been very helpful for me to grab,” she said. She carries her vape pen in her purse in case of an emergency, but has only one cartridge left. Massachusetts imposed its ban on all vaping products, including both nicotine- and cannabis-based products, in response to mounting concern about the potential serious health risks. Governor Charlie Baker, a Republican, said the ban would last at least four months while new legislation and regulation is explored.  More than 800 cases of a vaping-related lung disease and 12 deaths across 10 U.S. states have so far been reported by the U.S. Centers for Disease Control and Prevention. Those numbers are expected to climb.  More than three quarters of those with the respiratory illness reported vaping THC, the main psychoactive ingredient of marijuana. Many of them used small e-cigarette cartridges, or “carts,” bought on the black market, where the risk of adulterated products is high. Marijuana remains illegal under federal law, but a growing number of states allow it for medical or recreational use. Massachusetts is one of 10 U.S. states that allows both uses, along with the District of Columbia. Some marijuana users had long eschewed vaping even before the ban, often on the advice of doctors who saw the cocktail of compounds being inhaled into lungs as risky. “I have advised against the vape carts for my patients for a long time exactly out of suspicion of basically what just happened,” said Dr. Ryan Zaklin, a doctor in Salem, Massachusetts. “Who the hell knows what they’re putting in them?” Some patients like vaping because it is more discreet than traditional burning of marijuana “flower.” The devices are small, produce a relatively odorless “vapor” and is fast-acting: a handheld device rapidly heats liquid compounds into an aerosol that can be inhaled into the lungs.  Many of those patients are now asking their doctors or dispensaries about edible forms of marijuana, liquid tinctures that can be dropped under the tongue or old-fashioned flower buds and pre-rolled joints for smoking.  For Medeiros, who lives in the small coastal city of Peabody, other methods are a poor substitute. She found that edibles take time to take effect, typically about an hour. Tinctures seemed to her similarly slow-acting. And rolling a joint while her vision is closing in and she is hyperventilating from a panic attack is nearly impossible, she said. UNEXPECTED BLESSING Medeiros wishes medical marijuana patients had been given time to stock up on the products they use before the ban went into immediate effect.  Pressed on such concerns, the governor has not been swayed to change his decision over what he said was a public health emergency. “There are many alternative uses available to people who currently have prescriptions for medical marijuana and they should pursue those,” Baker told reporters last week, according to local media. But some public health experts have warned the ban may drive more people toward riskier black-market, totally unregulated vape products.      At the New England Treatment Access (NETA) dispensary in Brookline, near Boston, which has become one of the biggest suppliers of medical marijuana since the drug became legalized in the state in 2012, several patients said they view the ban as an unexpected blessing. Denise Sullivan, 62, uses medical marijuana to treat symptoms of her leukemia. She had vaped for more than a year, but stopped after she heard about the ban. During the period she vaped, she contracted pneumonia five times, she said, and now believes that might have been vape related.\\xa0 “I can tell when I vape I am more congested not in my lungs but in my sinuses,” she said. She plans to use edibles, which she said kick in with enough time to treat her pain. Kate LeDoux, 49, had a similar experience. She is a runner and used medical marijuana to help recovery from recent foot surgery.  LeDoux stopped vaping a few weeks ago after seeing the news about the lung disease, turning instead to edibles and smoking. Almost immediately, her “weird cough” cleared up and her running times improved, she said. “Now I know it was 100 percent the vaping.” (This story has been refiled to to correct date). Reporting Jacqueline Tempera in Brookline and Boston, Massachusetts, and Jonathan Allen in New York; Editing by Frank McGurty and Bill Berkrot'"
      ]
     },
     "execution_count": 49,
     "metadata": {},
     "output_type": "execute_result"
    }
   ],
   "source": [
    "density_soup = BeautifulSoup(doc.summary(), 'html.parser')\n",
    "density_soup.body.text"
   ]
  },
  {
   "cell_type": "markdown",
   "metadata": {
    "colab_type": "text",
    "id": "gRII_OGyoGto"
   },
   "source": [
    "# Blueprint: Scrapy"
   ]
  },
  {
   "cell_type": "markdown",
   "metadata": {},
   "source": [
    "Unfortunately, the code for `scrapy` cannot be changed easily. One more argument for using *up to date* separate libraries. In this version, it still collects the titles of the articles but not more."
   ]
  },
  {
   "cell_type": "code",
   "execution_count": 50,
   "metadata": {
    "colab": {},
    "colab_type": "code",
    "id": "Ca8x2bg_oGto"
   },
   "outputs": [],
   "source": [
    "# might need to install scrapy\n",
    "import scrapy\n",
    "import logging\n",
    "\n",
    "\n",
    "class ReutersArchiveSpider(scrapy.Spider):\n",
    "    name = 'reuters-archive'\n",
    "    \n",
    "    custom_settings = {\n",
    "        'LOG_LEVEL': logging.WARNING,\n",
    "        'FEED_FORMAT': 'json',\n",
    "        'FEED_URI': 'reuters-archive.json'\n",
    "    }\n",
    "    \n",
    "    start_urls = [\n",
    "        'https://www.reuters.com/news/archive/',\n",
    "    ]\n",
    "\n",
    "    def parse(self, response):\n",
    "        for article in response.css(\"article.story div.story-content a\"):\n",
    "            yield response.follow(article.css(\"a::attr(href)\").extract_first(), self.parse_article)\n",
    "\n",
    "        next_page_url = response.css('a.control-nav-next::attr(href)').extract_first()\n",
    "        if (next_page_url is not None) & ('page=2' not in next_page_url):\n",
    "            yield response.follow(next_page_url, self.parse)\n",
    "\n",
    "    def parse_article(self, response):\n",
    "        yield {\n",
    "          'title': response.css('h1::text').extract_first().strip(),\n",
    "        }"
   ]
  },
  {
   "cell_type": "code",
   "execution_count": 51,
   "metadata": {
    "colab": {},
    "colab_type": "code",
    "id": "Mxs6xAtnoGtr"
   },
   "outputs": [
    {
     "name": "stderr",
     "output_type": "stream",
     "text": [
      "2021-04-27 08:53:15 [scrapy.utils.log] INFO: Scrapy 2.5.0 started (bot: scrapybot)\n",
      "2021-04-27 08:53:15 [scrapy.utils.log] INFO: Versions: lxml 4.6.3.0, libxml2 2.9.10, cssselect 1.1.0, parsel 1.6.0, w3lib 1.22.0, Twisted 21.2.0, Python 3.8.9 (default, Apr  3 2021, 01:02:10) - [GCC 5.4.0 20160609], pyOpenSSL 20.0.1 (OpenSSL 1.1.1k  25 Mar 2021), cryptography 3.4.7, Platform Linux-4.15.0-142-generic-x86_64-with-glibc2.17\n",
      "2021-04-27 08:53:15 [scrapy.utils.log] DEBUG: Using reactor: twisted.internet.epollreactor.EPollReactor\n",
      "2021-04-27 08:53:15 [scrapy.crawler] INFO: Overridden settings:\n",
      "{'LOG_LEVEL': 30}\n"
     ]
    }
   ],
   "source": [
    "# this can be run only once from a Jupyter notebook due to Twisted\n",
    "from scrapy.crawler import CrawlerProcess\n",
    "process = CrawlerProcess()\n",
    "\n",
    "process.crawl(ReutersArchiveSpider)\n",
    "process.start()"
   ]
  },
  {
   "cell_type": "code",
   "execution_count": 52,
   "metadata": {
    "colab": {},
    "colab_type": "code",
    "id": "l_jfvbozoGty"
   },
   "outputs": [
    {
     "data": {
      "text/plain": [
       "['reuters-archive.json']"
      ]
     },
     "execution_count": 52,
     "metadata": {},
     "output_type": "execute_result"
    }
   ],
   "source": [
    "glob.glob(\"*.json\")"
   ]
  },
  {
   "cell_type": "code",
   "execution_count": 53,
   "metadata": {
    "colab": {},
    "colab_type": "code",
    "id": "2SZPLsUqoGt0"
   },
   "outputs": [
    {
     "name": "stdout",
     "output_type": "stream",
     "text": [
      "[\n",
      "{\"title\": \"Biden fares better than Trump over first 100 days-Reuters/Ipsos poll\"},\n",
      "{\"title\": \"Exclusive: U.S. to ease travel restrictions for Chinese students - sources\"},\n",
      "{\"title\": \"Shaken U.S. Capitol on high alert for Biden's first address to Congress\"},\n",
      "{\"title\": \"Lawyers for Black man killed by N.Carolina officers to release autopsy\"},\n",
      "{\"title\": \"Parties to Iran nuclear talks to speed up efforts for Iranian, U.S. compliance\"},\n",
      "{\"title\": \"Analysis: Are U.S. Supreme Court conservatives aiming to expand gun rights?\"},\n",
      "{\"title\": \"Biden's first 100 days: COVID-19, jobs, foreign policy, immigration, guns and dogs\"},\n",
      "{\"title\": \"Explainer: Karen rebels step up attacks as Myanmar army struggles to rule\"},\n",
      "{\"title\": \"Spain confirms two journalists killed after Burkina Faso ambush\"},\n",
      "{\"title\": \"Medical supplies begin to reach India as COVID-19 deaths near 200,000\"},\n",
      "{\"title\": \"Fighting erupts in Myanmar; junta to \\u2018consider\\u2019 ASEAN plan\"},\n",
      "{\"title\": \"Bulk carrier collides with oil tanker A Symphony at Qingdao -ship manager\"},\n",
      "{\"title\": \"Oil spill near China\\u2019s Qingdao port after ship collision in fog\"}\n",
      "][\n",
      "{\"title\": \"Bulk carrier collides with oil tanker A Symphony at Qingdao -ship manager\"},\n",
      "{\"title\": \"Parties to Iran nuclear talks to speed up efforts for Iranian, U.S. compliance\"},\n",
      "{\"title\": \"Exclusive: U.S. to ease travel restrictions for Chinese students - sources\"},\n",
      "{\"title\": \"Biden fares better than Trump over first 100 days-Reuters/Ipsos poll\"},\n",
      "{\"title\": \"Lawyers for Black man killed by N.Carolina officers to release autopsy\"},\n",
      "{\"title\": \"Oil spill near China\\u2019s Qingdao port after ship collision in fog\"},\n",
      "{\"title\": \"Shaken U.S. Capitol on high alert for Biden's first address to Congress\"},\n",
      "{\"title\": \"Spain confirms two journalists killed after Burkina Faso ambush\"},\n",
      "{\"title\": \"Biden's first 100 days: COVID-19, jobs, foreign policy, immigration, guns and dogs\"},\n",
      "{\"title\": \"Medical supplies begin to reach India as COVID-19 deaths near 200,000\"},\n",
      "{\"title\": \"Fighting erupts in Myanmar; junta to \\u2018consider\\u2019 ASEAN plan\"},\n",
      "{\"title\": \"Analysis: Are U.S. Supreme Court conservatives aiming to expand gun rights?\"},\n",
      "{\"title\": \"Explainer: Karen rebels step up attacks as Myanmar army struggles to rule\"}\n",
      "]"
     ]
    }
   ],
   "source": [
    "!cat 'reuters-archive.json'"
   ]
  }
 ],
 "metadata": {
  "colab": {
   "name": "Crawling_Code.ipynb",
   "provenance": []
  },
  "kernelspec": {
   "display_name": "btap38",
   "language": "python",
   "name": "btap38"
  },
  "language_info": {
   "codemirror_mode": {
    "name": "ipython",
    "version": 3
   },
   "file_extension": ".py",
   "mimetype": "text/x-python",
   "name": "python",
   "nbconvert_exporter": "python",
   "pygments_lexer": "ipython3",
   "version": "3.8.9"
  },
  "toc": {
   "base_numbering": 1,
   "nav_menu": {},
   "number_sections": true,
   "sideBar": true,
   "skip_h1_title": false,
   "title_cell": "Table of Contents",
   "title_sidebar": "Contents",
   "toc_cell": false,
   "toc_position": {},
   "toc_section_display": true,
   "toc_window_display": false
  },
  "varInspector": {
   "cols": {
    "lenName": 16,
    "lenType": 16,
    "lenVar": 40
   },
   "kernels_config": {
    "python": {
     "delete_cmd_postfix": "",
     "delete_cmd_prefix": "del ",
     "library": "var_list.py",
     "varRefreshCmd": "print(var_dic_list())"
    },
    "r": {
     "delete_cmd_postfix": ") ",
     "delete_cmd_prefix": "rm(",
     "library": "var_list.r",
     "varRefreshCmd": "cat(var_dic_list()) "
    }
   },
   "types_to_exclude": [
    "module",
    "function",
    "builtin_function_or_method",
    "instance",
    "_Feature"
   ],
   "window_display": false
  }
 },
 "nbformat": 4,
 "nbformat_minor": 4
}
