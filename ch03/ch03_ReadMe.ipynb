{
 "cells": [
  {
   "cell_type": "markdown",
   "id": "0a50b47a-78d2-4e0d-8bc6-dc4eefaf2957",
   "metadata": {},
   "source": [
    "# Chapter 3: Scraping Websites and Extracting Data\n",
    "\n",
    "## [Blueprints for Text Analysis Using Python](https://github.com/blueprints-for-text-analytics-python/blueprints-text)\n",
    "\n",
    "View Jupyter notebook on \n",
    "[[Github]](Scraping_Extraction.ipynb) or\n",
    "[[nbviewer](https://nbviewer.ipython.org/github/blueprints-for-text-analytics-python/blueprints-text/blob/master/ch03/Scraping_Extraction.ipynb)] or run it on \n",
    "[[Colab](https://colab.research.google.com/github/blueprints-for-text-analytics-python/blueprints-text/blob/master/ch03/Scraping_Extraction.ipynb)].\n"
   ]
  }
 ],
 "metadata": {
  "kernelspec": {
   "display_name": "btap38",
   "language": "python",
   "name": "btap38"
  },
  "language_info": {
   "codemirror_mode": {
    "name": "ipython",
    "version": 3
   },
   "file_extension": ".py",
   "mimetype": "text/x-python",
   "name": "python",
   "nbconvert_exporter": "python",
   "pygments_lexer": "ipython3",
   "version": "3.8.9"
  }
 },
 "nbformat": 4,
 "nbformat_minor": 5
}
