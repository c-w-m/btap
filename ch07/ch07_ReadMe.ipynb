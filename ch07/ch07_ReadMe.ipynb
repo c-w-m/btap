{
 "cells": [
  {
   "cell_type": "markdown",
   "id": "ab238a5b-dea3-4dab-954b-0160123e169e",
   "metadata": {},
   "source": [
    "# Chapter 7: How to Explain a Text Classifier\n",
    "\n",
    "## [Blueprints for Text Analysis Using Python](https://github.com/blueprints-for-text-analytics-python/blueprints-text)\n",
    "\n",
    "View Jupyter notebook on \n",
    "[[Github]](Explainable_AI.ipynb) or\n",
    "[[nbviewer](https://nbviewer.ipython.org/github/blueprints-for-text-analytics-python/blueprints-text/blob/master/ch07/Explainable_AI.ipynb)] or run it on \n",
    "[[Colab](https://colab.research.google.com/github/blueprints-for-text-analytics-python/blueprints-text/blob/master/ch07/Explainable_AI.ipynb)]."
   ]
  }
 ],
 "metadata": {
  "kernelspec": {
   "display_name": "btap38",
   "language": "python",
   "name": "btap38"
  },
  "language_info": {
   "codemirror_mode": {
    "name": "ipython",
    "version": 3
   },
   "file_extension": ".py",
   "mimetype": "text/x-python",
   "name": "python",
   "nbconvert_exporter": "python",
   "pygments_lexer": "ipython3",
   "version": "3.8.9"
  }
 },
 "nbformat": 4,
 "nbformat_minor": 5
}
