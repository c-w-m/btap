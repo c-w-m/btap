{
 "cells": [
  {
   "cell_type": "markdown",
   "id": "753de301-5dae-49aa-aad6-d60d6ebdd838",
   "metadata": {},
   "source": [
    "# Chapter 4: Preparing Textual Data For Statistics and Machine Learning\n",
    "\n",
    "## [Blueprints for Text Analysis Using Python](https://github.com/blueprints-for-text-analytics-python/blueprints-text)\n",
    "\n",
    "View Jupyter notebook on \n",
    "[[Github]](Data_Preparation.ipynb) or\n",
    "[[nbviewer](https://nbviewer.ipython.org/github/blueprints-for-text-analytics-python/blueprints-text/blob/master/ch04/Data_Preparation.ipynb)] or run it on \n",
    "[[Colab](https://colab.research.google.com/github/blueprints-for-text-analytics-python/blueprints-text/blob/master/ch04/Data_Preparation.ipynb)].\n",
    "\n",
    "\n",
    "## Figures\n",
    "\n",
    "Figure 4.1: A pipeline with typical preprocessing steps for textual data\n",
    "![](figures/Text_Preprocessing.png)"
   ]
  }
 ],
 "metadata": {
  "kernelspec": {
   "display_name": "btap38",
   "language": "python",
   "name": "btap38"
  },
  "language_info": {
   "codemirror_mode": {
    "name": "ipython",
    "version": 3
   },
   "file_extension": ".py",
   "mimetype": "text/x-python",
   "name": "python",
   "nbconvert_exporter": "python",
   "pygments_lexer": "ipython3",
   "version": "3.8.9"
  }
 },
 "nbformat": 4,
 "nbformat_minor": 5
}
